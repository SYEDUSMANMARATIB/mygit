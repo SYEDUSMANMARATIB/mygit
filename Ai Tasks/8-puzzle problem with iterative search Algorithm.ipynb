{
  "cells": [
    {
      "cell_type": "markdown",
      "id": "7c9ca4dc",
      "metadata": {
        "id": "7c9ca4dc"
      },
      "source": [
        "# Solve the 8-puzzle problem with iterative search Algorithm\n"
      ]
    },
    {
      "cell_type": "code",
      "execution_count": null,
      "id": "3a803e1f",
      "metadata": {
        "id": "3a803e1f"
      },
      "outputs": [],
      "source": [
        "\n",
        "def possible_moves(state, visited_states):\n",
        "    b = state.index(-1)\n",
        "    d = []\n",
        "    pos_moves = []\n",
        "    if b <= 5:\n",
        "        d.append('d')\n",
        "    if b >= 3:\n",
        "        d.append('u')\n",
        "    if b % 3 > 0:\n",
        "        d.append('l')\n",
        "    if b % 3 < 2:\n",
        "        d.append('r')\n",
        "    for i in d:\n",
        "        temp = gen(state, i, b)\n",
        "        if not temp in visited_states: pos_moves.append(temp)\n",
        "    return pos_moves\n",
        "\n",
        "def gen(state, m, b):\n",
        "    temp = state[:]\n",
        "    if m == 'l':\n",
        "        temp[b], temp[b - 1] = temp[b - 1], temp[b]\n",
        "    if m == 'r':\n",
        "        temp[b], temp[b + 1] = temp[b + 1], temp[b]\n",
        "    if m == 'u':\n",
        "        temp[b], temp[b - 3] = temp[b - 3], temp[b]\n",
        "    if m == 'd':\n",
        "        temp[b], temp[b + 3] = temp[b + 3], temp[b]\n",
        "    return temp\n"
      ]
    },
    {
      "cell_type": "code",
      "execution_count": null,
      "id": "f2a90deb",
      "metadata": {
        "id": "f2a90deb"
      },
      "outputs": [],
      "source": [
        "def DFS(init_state, goal_state,D):\n",
        "    stack=[init_state]\n",
        "    visited=[init_state]\n",
        "    depth=0\n",
        "    while stack:\n",
        "        state = stack.pop()\n",
        "        if state == goal:\n",
        "            print(\"Found\")\n",
        "            return\n",
        "        #possible number of moves state\n",
        "        li=possible_moves(state,visited)\n",
        "        if depth<D:\n",
        "            for i in li:\n",
        "                if i not in visited:\n",
        "                #Append in stack and visted\n",
        "                    stack.append(i)\n",
        "                    print(i)\n",
        "                    if i== goal_state:\n",
        "                        return state\n",
        "            depth+=1\n",
        "        else:\n",
        "            depth= depth-1"
      ]
    },
    {
      "cell_type": "code",
      "execution_count": null,
      "id": "8021f4bc",
      "metadata": {
        "id": "8021f4bc",
        "outputId": "0bdb4bc2-44ae-4f65-ee45-42fd73f4510b"
      },
      "outputs": [
        {
          "name": "stdout",
          "output_type": "stream",
          "text": [
            "[1, 2, 3, 4, 7, 5, 6, -1, 8]\n",
            "[1, -1, 3, 4, 2, 5, 6, 7, 8]\n",
            "[1, 2, 3, -1, 4, 5, 6, 7, 8]\n",
            "[1, 2, 3, 4, -1, 5, 6, 7, 8]\n"
          ]
        }
      ],
      "source": [
        "initial_state=[1,2,3,4,-1,5,6,7,8]\n",
        "goal=[1,2,3,-1,4,5,6,7,8]\n",
        "d= possible_moves(initial_state,goal)\n",
        "res= DFS(initial_state,goal,6)\n",
        "print(res)"
      ]
    },
    {
      "cell_type": "code",
      "execution_count": null,
      "id": "c0b03b7b",
      "metadata": {
        "id": "c0b03b7b"
      },
      "outputs": [],
      "source": []
    }
  ],
  "metadata": {
    "kernelspec": {
      "display_name": "Python 3",
      "language": "python",
      "name": "python3"
    },
    "language_info": {
      "codemirror_mode": {
        "name": "ipython",
        "version": 3
      },
      "file_extension": ".py",
      "mimetype": "text/x-python",
      "name": "python",
      "nbconvert_exporter": "python",
      "pygments_lexer": "ipython3",
      "version": "3.8.8"
    },
    "colab": {
      "provenance": []
    }
  },
  "nbformat": 4,
  "nbformat_minor": 5
}