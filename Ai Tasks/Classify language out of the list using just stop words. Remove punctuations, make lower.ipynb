{
 "cells": [
  {
   "cell_type": "markdown",
   "metadata": {},
   "source": [
    "### Q1: Classify language out of the list given below using just stop words. Remove punctuations, make lower."
   ]
  },
  {
   "cell_type": "code",
   "execution_count": 1,
   "metadata": {},
   "outputs": [],
   "source": [
    "from nltk.corpus import stopwords\n",
    "from nltk.tokenize import word_tokenize"
   ]
  },
  {
   "cell_type": "code",
   "execution_count": 2,
   "metadata": {},
   "outputs": [
    {
     "data": {
      "text/plain": [
       "['arabic',\n",
       " 'azerbaijani',\n",
       " 'danish',\n",
       " 'dutch',\n",
       " 'english',\n",
       " 'finnish',\n",
       " 'french',\n",
       " 'german',\n",
       " 'greek',\n",
       " 'hungarian',\n",
       " 'indonesian',\n",
       " 'italian',\n",
       " 'kazakh',\n",
       " 'nepali',\n",
       " 'norwegian',\n",
       " 'portuguese',\n",
       " 'romanian',\n",
       " 'russian',\n",
       " 'slovene',\n",
       " 'spanish',\n",
       " 'swedish',\n",
       " 'tajik',\n",
       " 'turkish']"
      ]
     },
     "execution_count": 2,
     "metadata": {},
     "output_type": "execute_result"
    }
   ],
   "source": [
    "#your code here\n",
    "stopwords.fileids()"
   ]
  },
  {
   "cell_type": "code",
   "execution_count": 3,
   "metadata": {},
   "outputs": [],
   "source": [
    "Test=\"An article is qualunque member van un class of dedicated words naquele estão used with noun phrases per mark the identifiability of the referents of the noun phrases\""
   ]
  },
  {
   "cell_type": "markdown",
   "metadata": {},
   "source": [
    "output:\n",
    "{'arabic': 0,\n",
    " 'azerbaijani': 1,\n",
    " 'danish': 0,\n",
    " 'dutch': 3,\n",
    " 'english': 5,\n",
    " 'finnish': 0,\n",
    " 'french': 1,\n",
    " 'german': 1,\n",
    " 'greek': 0,\n",
    " 'hungarian': 1,\n",
    " 'indonesian': 1,\n",
    " 'italian': 2,\n",
    " 'kazakh': 0,\n",
    " 'nepali': 0,\n",
    " 'norwegian': 0,\n",
    " 'portuguese': 1,\n",
    " 'romanian': 1,\n",
    " 'romanurdu': 1,\n",
    " 'russian': 0,\n",
    " 'slovene': 0,\n",
    " 'spanish': 1,\n",
    " 'swedish': 0,\n",
    " 'tajik': 0,\n",
    " 'turkish': 0}"
   ]
  },
  {
   "cell_type": "code",
   "execution_count": 4,
   "metadata": {},
   "outputs": [
    {
     "name": "stdout",
     "output_type": "stream",
     "text": [
      "arabic : 0\n",
      "azerbaijani : 1\n",
      "danish : 0\n",
      "dutch : 3\n",
      "english : 5\n",
      "finnish : 0\n",
      "french : 1\n",
      "german : 1\n",
      "greek : 0\n",
      "hungarian : 1\n",
      "indonesian : 1\n",
      "italian : 2\n",
      "kazakh : 0\n",
      "nepali : 0\n",
      "norwegian : 0\n",
      "portuguese : 1\n",
      "romanian : 1\n",
      "russian : 0\n",
      "slovene : 0\n",
      "spanish : 1\n",
      "swedish : 0\n",
      "tajik : 0\n",
      "turkish : 0\n"
     ]
    }
   ],
   "source": [
    "token = word_tokenize(Test)\n",
    "\n",
    "for i in range(len(token)):\n",
    "    token[i] = token[i].lower()      \n",
    "    \n",
    "token = set(token)\n",
    "\n",
    "for language in stopwords.fileids():\n",
    "    sw = set(stopwords.words(language))\n",
    "    print(language, \":\", len(token.intersection(sw)))"
   ]
  },
  {
   "cell_type": "markdown",
   "metadata": {},
   "source": [
    "### Q2: make a Roman urdu sentence tokenizer by assuming that there will be no (.full stop) and (? question mark) in the end of sentence. Make some rules to made that tokenizer."
   ]
  },
  {
   "cell_type": "code",
   "execution_count": 5,
   "metadata": {},
   "outputs": [],
   "source": [
    "#your code here"
   ]
  },
  {
   "cell_type": "code",
   "execution_count": 6,
   "metadata": {},
   "outputs": [],
   "source": [
    "Test2=\"lekin daad dainee padtee hai snatkaron ko jo aisay bohat se digrmsayl ki terhan is maslay ka hal nikaalte mein bhi kamyaab ho gaye hain ghair mulki tehqeeqi jareeday fiction mein shaya honay wali report ke mutabiq snatkaron nay aik aisi battery tayaar karli hai jisay saal mein sirf 1 baar charge karna parre ga magar yeh battery kamray ke daraja hararat mein behtareen kaam kere gi is aylominim ion battery ko jet laboratory, larns national laboratory Nasa , hnda reserch insti tute ke mahireen par mushtamil team naay tayyar kya hai jisay aik karne ke baad taqreeban 10 Mahtaq dobarah charge karne ki zaroorat nahi rehti hai tehqeeqi team ke sarbarah aur 2008 hamza mein noble inaam haasil karne walay chemiya ke professor Robert  grbs ne bataya ke aylominim ion battery murawaja batrion ke muqablay mein 20 gina taaqat war hoti hain aur inhen 10 mah taq charge karne ki zaroorat nahi padtee ha team ke sarbarah professor Robert grace ke mutabiq aam istemaal ki jany wali batrion ke muqablay main zyada achi h\""
   ]
  },
  {
   "cell_type": "code",
   "execution_count": null,
   "metadata": {},
   "outputs": [],
   "source": []
  },
  {
   "cell_type": "markdown",
   "metadata": {},
   "source": [
    "Output: \"lekin daad dainee padtee hai snatkaron ko jo aisay bohat se digrmsayl ki terhan is maslay ka hal nikaalte mein bhi kamyaab ho gaye hain\", \"ghair mulki tehqeeqi jareeday fiction mein shaya honay wali report ke mutabiq snatkaron nay aik aisi battery tayaar karli hai jisay saal mein sirf 1 baar charge karna parre ga magar yeh battery kamray ke daraja hararat mein behtareen kaam kere gi\", \"is aylominim ion battery ko jet laboratory, larns national laboratory Nasa , hnda reserch insti tute ke mahireen par mushtamil team naay tayyar kya hai\", \"jisay aik karne ke baad taqreeban 10 Mah taq dobarah charge karne ki zaroorat nahi rehti hai\", \"tehqeeqi team ke sarbarah aur 2008 hamza mein noble inaam haasil karne walay chemiya ke professor Robert  grbs ne bataya ke aylominim ion battery murawaja batrion ke muqablay mein 20 gina taaqat war hoti hain aur inhen 10 mah taq charge karne ki zaroorat nahi padtee ha\", \"team ke sarbarah professor Robert grace ke mutabiq aam istemaal ki jany wali batrion ke muqablay main zyada achi h\""
   ]
  },
  {
   "cell_type": "code",
   "execution_count": 23,
   "metadata": {},
   "outputs": [
    {
     "name": "stdout",
     "output_type": "stream",
     "text": [
      "Output\n",
      "['lekin daad dainee padtee hai ', 'snatkaron ko jo aisay bohat se digrmsayl ki terhan is maslay ka hal nikaalte mein bhi kamyaab ho gaye hain ', 'ghair mulki tehqeeqi jareeday fiction mein shaya honay wali report ke mutabiq snatkaron nay aik aisi battery tayaar karli hai ', 'jisay saal mein sirf 1 baar charge karna parre ga magar yeh battery kamray ke daraja hararat mein behtareen kaam kere gi ', 'is aylominim ion battery ko jet laboratory , larns national laboratory Nasa , hnda reserch insti tute ke mahireen par mushtamil team naay tayyar kya hai ', 'jisay aik karne ke baad taqreeban 10 Mahtaq dobarah charge karne ki zaroorat nahi rehti hai ', 'tehqeeqi team ke sarbarah aur 2008 hamza mein noble inaam haasil karne walay chemiya ke professor Robert grbs ne bataya ke aylominim ion battery murawaja batrion ke muqablay mein 20 gina taaqat war hoti hain ', 'aur inhen 10 mah taq charge karne ki zaroorat nahi padtee ha ', 'team ke sarbarah professor Robert grace ke mutabiq aam istemaal ki jany wali batrion ke muqablay main zyada achi h ']\n"
     ]
    }
   ],
   "source": [
    "from nltk.tokenize import sent_tokenize\n",
    "\n",
    "sent_token = word_tokenize(Test2)\n",
    "stopWords = ['hai', 'hain', 'hoon', 'gi', 'ha', 'h']\n",
    "print(\"Output\")\n",
    "\n",
    "temp = \"\"\n",
    "l = []\n",
    "for i in sent_token:\n",
    "    temp = temp + i + \" \"\n",
    "    if (i in stopWords):\n",
    "        l.append(temp)\n",
    "        temp = \"\"\n",
    "\n",
    "print(l)\n",
    "        \n",
    "        "
   ]
  },
  {
   "cell_type": "code",
   "execution_count": null,
   "metadata": {},
   "outputs": [],
   "source": []
  }
 ],
 "metadata": {
  "kernelspec": {
   "display_name": "Python 3",
   "language": "python",
   "name": "python3"
  },
  "language_info": {
   "codemirror_mode": {
    "name": "ipython",
    "version": 3
   },
   "file_extension": ".py",
   "mimetype": "text/x-python",
   "name": "python",
   "nbconvert_exporter": "python",
   "pygments_lexer": "ipython3",
   "version": "3.8.5"
  }
 },
 "nbformat": 4,
 "nbformat_minor": 2
}
