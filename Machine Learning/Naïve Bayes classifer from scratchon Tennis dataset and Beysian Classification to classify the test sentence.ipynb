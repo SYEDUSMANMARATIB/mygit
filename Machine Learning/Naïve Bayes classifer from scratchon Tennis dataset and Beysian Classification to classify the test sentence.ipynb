{
 "cells": [
  {
   "cell_type": "markdown",
   "metadata": {},
   "source": [
    "# Naïve Bayes classifer on the Tennis play dataset"
   ]
  },
  {
   "cell_type": "code",
   "execution_count": 26,
   "metadata": {
    "id": "U5XJtg-wHPz-"
   },
   "outputs": [],
   "source": [
    "import pandas as pd\n",
    "import numpy as np\n",
    "from sklearn.model_selection import train_test_split\n",
    "df=pd.read_csv('play_tennis.csv')\n"
   ]
  },
  {
   "cell_type": "code",
   "execution_count": 27,
   "metadata": {
    "colab": {
     "base_uri": "https://localhost:8080/",
     "height": 488
    },
    "id": "RNDAIHo4UWug",
    "outputId": "4f6423b3-899d-4c22-be5f-e333cb4ce285"
   },
   "outputs": [
    {
     "data": {
      "text/html": [
       "<div>\n",
       "<style scoped>\n",
       "    .dataframe tbody tr th:only-of-type {\n",
       "        vertical-align: middle;\n",
       "    }\n",
       "\n",
       "    .dataframe tbody tr th {\n",
       "        vertical-align: top;\n",
       "    }\n",
       "\n",
       "    .dataframe thead th {\n",
       "        text-align: right;\n",
       "    }\n",
       "</style>\n",
       "<table border=\"1\" class=\"dataframe\">\n",
       "  <thead>\n",
       "    <tr style=\"text-align: right;\">\n",
       "      <th></th>\n",
       "      <th>day</th>\n",
       "      <th>outlook</th>\n",
       "      <th>temp</th>\n",
       "      <th>humidity</th>\n",
       "      <th>wind</th>\n",
       "      <th>play</th>\n",
       "    </tr>\n",
       "  </thead>\n",
       "  <tbody>\n",
       "    <tr>\n",
       "      <th>0</th>\n",
       "      <td>D1</td>\n",
       "      <td>Sunny</td>\n",
       "      <td>Hot</td>\n",
       "      <td>High</td>\n",
       "      <td>Weak</td>\n",
       "      <td>No</td>\n",
       "    </tr>\n",
       "    <tr>\n",
       "      <th>1</th>\n",
       "      <td>D2</td>\n",
       "      <td>Sunny</td>\n",
       "      <td>Hot</td>\n",
       "      <td>High</td>\n",
       "      <td>Strong</td>\n",
       "      <td>No</td>\n",
       "    </tr>\n",
       "    <tr>\n",
       "      <th>2</th>\n",
       "      <td>D3</td>\n",
       "      <td>Overcast</td>\n",
       "      <td>Hot</td>\n",
       "      <td>High</td>\n",
       "      <td>Weak</td>\n",
       "      <td>Yes</td>\n",
       "    </tr>\n",
       "    <tr>\n",
       "      <th>3</th>\n",
       "      <td>D4</td>\n",
       "      <td>Rain</td>\n",
       "      <td>Mild</td>\n",
       "      <td>High</td>\n",
       "      <td>Weak</td>\n",
       "      <td>Yes</td>\n",
       "    </tr>\n",
       "    <tr>\n",
       "      <th>4</th>\n",
       "      <td>D5</td>\n",
       "      <td>Rain</td>\n",
       "      <td>Cool</td>\n",
       "      <td>Normal</td>\n",
       "      <td>Weak</td>\n",
       "      <td>Yes</td>\n",
       "    </tr>\n",
       "    <tr>\n",
       "      <th>5</th>\n",
       "      <td>D6</td>\n",
       "      <td>Rain</td>\n",
       "      <td>Cool</td>\n",
       "      <td>Normal</td>\n",
       "      <td>Strong</td>\n",
       "      <td>No</td>\n",
       "    </tr>\n",
       "    <tr>\n",
       "      <th>6</th>\n",
       "      <td>D7</td>\n",
       "      <td>Overcast</td>\n",
       "      <td>Cool</td>\n",
       "      <td>Normal</td>\n",
       "      <td>Strong</td>\n",
       "      <td>Yes</td>\n",
       "    </tr>\n",
       "    <tr>\n",
       "      <th>7</th>\n",
       "      <td>D8</td>\n",
       "      <td>Sunny</td>\n",
       "      <td>Mild</td>\n",
       "      <td>High</td>\n",
       "      <td>Weak</td>\n",
       "      <td>No</td>\n",
       "    </tr>\n",
       "    <tr>\n",
       "      <th>8</th>\n",
       "      <td>D9</td>\n",
       "      <td>Sunny</td>\n",
       "      <td>Cool</td>\n",
       "      <td>Normal</td>\n",
       "      <td>Weak</td>\n",
       "      <td>Yes</td>\n",
       "    </tr>\n",
       "    <tr>\n",
       "      <th>9</th>\n",
       "      <td>D10</td>\n",
       "      <td>Rain</td>\n",
       "      <td>Mild</td>\n",
       "      <td>Normal</td>\n",
       "      <td>Weak</td>\n",
       "      <td>Yes</td>\n",
       "    </tr>\n",
       "    <tr>\n",
       "      <th>10</th>\n",
       "      <td>D11</td>\n",
       "      <td>Sunny</td>\n",
       "      <td>Mild</td>\n",
       "      <td>Normal</td>\n",
       "      <td>Strong</td>\n",
       "      <td>Yes</td>\n",
       "    </tr>\n",
       "    <tr>\n",
       "      <th>11</th>\n",
       "      <td>D12</td>\n",
       "      <td>Overcast</td>\n",
       "      <td>Mild</td>\n",
       "      <td>High</td>\n",
       "      <td>Strong</td>\n",
       "      <td>Yes</td>\n",
       "    </tr>\n",
       "    <tr>\n",
       "      <th>12</th>\n",
       "      <td>D13</td>\n",
       "      <td>Overcast</td>\n",
       "      <td>Hot</td>\n",
       "      <td>Normal</td>\n",
       "      <td>Weak</td>\n",
       "      <td>Yes</td>\n",
       "    </tr>\n",
       "    <tr>\n",
       "      <th>13</th>\n",
       "      <td>D14</td>\n",
       "      <td>Rain</td>\n",
       "      <td>Mild</td>\n",
       "      <td>High</td>\n",
       "      <td>Strong</td>\n",
       "      <td>No</td>\n",
       "    </tr>\n",
       "  </tbody>\n",
       "</table>\n",
       "</div>"
      ],
      "text/plain": [
       "    day   outlook  temp humidity    wind play\n",
       "0    D1     Sunny   Hot     High    Weak   No\n",
       "1    D2     Sunny   Hot     High  Strong   No\n",
       "2    D3  Overcast   Hot     High    Weak  Yes\n",
       "3    D4      Rain  Mild     High    Weak  Yes\n",
       "4    D5      Rain  Cool   Normal    Weak  Yes\n",
       "5    D6      Rain  Cool   Normal  Strong   No\n",
       "6    D7  Overcast  Cool   Normal  Strong  Yes\n",
       "7    D8     Sunny  Mild     High    Weak   No\n",
       "8    D9     Sunny  Cool   Normal    Weak  Yes\n",
       "9   D10      Rain  Mild   Normal    Weak  Yes\n",
       "10  D11     Sunny  Mild   Normal  Strong  Yes\n",
       "11  D12  Overcast  Mild     High  Strong  Yes\n",
       "12  D13  Overcast   Hot   Normal    Weak  Yes\n",
       "13  D14      Rain  Mild     High  Strong   No"
      ]
     },
     "execution_count": 27,
     "metadata": {},
     "output_type": "execute_result"
    }
   ],
   "source": [
    "df"
   ]
  },
  {
   "cell_type": "markdown",
   "metadata": {
    "id": "eBdYNQ26YKSC"
   },
   "source": [
    "**For Outlook coulmn**"
   ]
  },
  {
   "cell_type": "code",
   "execution_count": 28,
   "metadata": {},
   "outputs": [
    {
     "name": "stdout",
     "output_type": "stream",
     "text": [
      "Yes    9\n",
      "No     5\n",
      "Name: play, dtype: int64\n"
     ]
    }
   ],
   "source": [
    "y = (df['play']) .value_counts()\n",
    "print(y)"
   ]
  },
  {
   "cell_type": "code",
   "execution_count": 29,
   "metadata": {
    "id": "ufjZ-xfGM3ET"
   },
   "outputs": [],
   "source": [
    "sunnyOut_N = len (np.where((df['outlook'] == 'Sunny') & (df['play'] == 'No'))[0])/5\n",
    "sunnyOut_Y = len (np.where((df['outlook'] == 'Sunny') & (df['play'] == 'Yes'))[0])/9"
   ]
  },
  {
   "cell_type": "code",
   "execution_count": 30,
   "metadata": {},
   "outputs": [],
   "source": [
    "overcOut_N = len(np.where((df['outlook'] == 'Overcast') & (df['play'] == 'No'))[0])/5\n",
    "overcOut_Y = len(np.where((df['outlook'] == 'Overcast') & (df['play'] == 'Yes'))[0])/9"
   ]
  },
  {
   "cell_type": "code",
   "execution_count": 31,
   "metadata": {},
   "outputs": [],
   "source": [
    "rainOut_N = len(np.where((df['outlook'] == 'Rain') & (df['play'] == 'No'))[0])/5\n",
    "rainOut_Y = len(np.where((df['outlook'] == 'Rain') & (df['play'] == 'Yes'))[0])/9"
   ]
  },
  {
   "cell_type": "code",
   "execution_count": null,
   "metadata": {},
   "outputs": [],
   "source": []
  },
  {
   "cell_type": "code",
   "execution_count": 32,
   "metadata": {
    "colab": {
     "base_uri": "https://localhost:8080/"
    },
    "id": "kkq6xx1oVCR5",
    "outputId": "1aa00d56-f0fb-4a2e-f391-6ebf69bd1e4d"
   },
   "outputs": [
    {
     "data": {
      "text/plain": [
       "(0.4, 0.3333333333333333)"
      ]
     },
     "execution_count": 32,
     "metadata": {},
     "output_type": "execute_result"
    }
   ],
   "source": [
    "rainOut_N, rainOut_Y"
   ]
  },
  {
   "cell_type": "markdown",
   "metadata": {
    "id": "XVmDOZGYYHcz"
   },
   "source": [
    "**For Humidity coulmn**"
   ]
  },
  {
   "cell_type": "code",
   "execution_count": 33,
   "metadata": {
    "id": "OKQoC5bdTrJA"
   },
   "outputs": [],
   "source": [
    "HighHumi_N = len(np.where((df['humidity'] == 'High') & (df['play'] == 'No'))[0])/5\n",
    "HighHumi_Y = len(np.where((df['humidity'] == 'High') & (df['play'] == 'Yes'))[0])/9"
   ]
  },
  {
   "cell_type": "code",
   "execution_count": 34,
   "metadata": {},
   "outputs": [],
   "source": [
    "NormalHumi_N = len(np.where((df['humidity'] == 'Normal') & (df['play'] == 'No'))[0])/5\n",
    "NormalHumi_Y = len(np.where((df['humidity'] == 'Normal') & (df['play'] == 'Yes'))[0])/9"
   ]
  },
  {
   "cell_type": "code",
   "execution_count": 35,
   "metadata": {
    "colab": {
     "base_uri": "https://localhost:8080/"
    },
    "id": "4D7UfOoQTrLM",
    "outputId": "211e7ba6-82a5-4601-d765-6bc3be3e0f8b"
   },
   "outputs": [
    {
     "data": {
      "text/plain": [
       "(0.2, 0.6666666666666666)"
      ]
     },
     "execution_count": 35,
     "metadata": {},
     "output_type": "execute_result"
    }
   ],
   "source": [
    "NormalHumi_N, NormalHumi_Y"
   ]
  },
  {
   "cell_type": "markdown",
   "metadata": {
    "id": "nIhGqX2bYsx-"
   },
   "source": [
    "**For Temperature coulmn**"
   ]
  },
  {
   "cell_type": "code",
   "execution_count": 36,
   "metadata": {
    "id": "UqvmDnMjTrOc"
   },
   "outputs": [],
   "source": [
    "hotTemp_N = len(np.where((df['temp'] == 'Hot') & (df['play'] == 'No'))[0])/5\n",
    "hotTemp_Y = len(np.where((df['temp'] == 'Hot') & (df['play'] == 'Yes'))[0])/9"
   ]
  },
  {
   "cell_type": "code",
   "execution_count": 37,
   "metadata": {},
   "outputs": [],
   "source": [
    "mildTemp_N = len(np.where((df['temp'] == 'Mild') & (df['play'] == 'No'))[0])/5\n",
    "mildTemp_Y = len(np.where((df['temp'] == 'Mild') & (df['play'] == 'Yes'))[0])/9"
   ]
  },
  {
   "cell_type": "code",
   "execution_count": 38,
   "metadata": {},
   "outputs": [],
   "source": [
    "coolTemp_N = len(np.where((df['temp'] == 'Cool') & (df['play'] == 'No'))[0])/5\n",
    "coolTemp_Y = len(np.where((df['temp'] == 'Cool') & (df['play'] == 'Yes'))[0])/9"
   ]
  },
  {
   "cell_type": "markdown",
   "metadata": {
    "id": "OuOWrXu6YzKb"
   },
   "source": [
    "**For Wind coulmn**"
   ]
  },
  {
   "cell_type": "code",
   "execution_count": 39,
   "metadata": {
    "id": "wZOq6C0xS9jT"
   },
   "outputs": [],
   "source": [
    "WeakWind_N= len(np.where((df['wind'] == 'Weak') & (df['play'] == 'No'))[0])/5\n",
    "WeakWind_Y = len(np.where((df['wind'] == 'Weak') & (df['play'] == 'Yes'))[0])/9"
   ]
  },
  {
   "cell_type": "code",
   "execution_count": 40,
   "metadata": {},
   "outputs": [],
   "source": [
    "StrongWind_N = len(np.where((df['wind'] == 'Strong') & (df['play'] == 'No'))[0])/5\n",
    "StrongWind_Y = len(np.where((df['wind'] == 'Strong') & (df['play'] == 'Yes'))[0])/9"
   ]
  },
  {
   "cell_type": "code",
   "execution_count": 41,
   "metadata": {
    "id": "8lZXlfC5fuhh"
   },
   "outputs": [],
   "source": [
    "Yes_List = [sunnyOut_Y, ]\n",
    "No_List = []"
   ]
  },
  {
   "cell_type": "code",
   "execution_count": 42,
   "metadata": {},
   "outputs": [
    {
     "name": "stdout",
     "output_type": "stream",
     "text": [
      "Enter some features :\n",
      "\n",
      "Enter outlook \n",
      "\n",
      "Enter temp \n",
      "\n",
      "Enter humidity \n",
      "\n",
      "Enter wind \n",
      "\n"
     ]
    }
   ],
   "source": [
    "print(\"Enter some features :\\n\")\n",
    "b = str(input(\"Enter outlook \\n\"))\n",
    "c = str(input(\"Enter temp \\n\"))\n",
    "d = str(input(\"Enter humidity \\n\"))\n",
    "e = str(input(\"Enter wind \\n\"))\n",
    "inputList = [b, c, d, e]"
   ]
  },
  {
   "cell_type": "code",
   "execution_count": 48,
   "metadata": {
    "id": "r6P0_izUb-II"
   },
   "outputs": [],
   "source": [
    "Yes_probability = (sunnyOut_Y*mildTemp_Y*HighHumi_Y*StrongWind_Y)/(9/14)\n",
    "No_probability = (sunnyOut_N*mildTemp_N*HighHumi_N*StrongWind_N)/(9/14)"
   ]
  },
  {
   "cell_type": "code",
   "execution_count": 49,
   "metadata": {
    "colab": {
     "base_uri": "https://localhost:8080/"
    },
    "id": "-ErXaNS_kbea",
    "outputId": "d9de3062-d42d-4c81-cc88-4717bdb6202f"
   },
   "outputs": [
    {
     "data": {
      "text/plain": [
       "(17.919999999999998, 1.7070568510897726)"
      ]
     },
     "execution_count": 49,
     "metadata": {},
     "output_type": "execute_result"
    }
   ],
   "source": [
    "No_probability*100, Yes_probability*100"
   ]
  },
  {
   "cell_type": "code",
   "execution_count": 50,
   "metadata": {
    "colab": {
     "base_uri": "https://localhost:8080/"
    },
    "id": "QOVST936b-N8",
    "outputId": "5f04c1af-06f1-46ff-c31e-854f18fba344"
   },
   "outputs": [
    {
     "name": "stdout",
     "output_type": "stream",
     "text": [
      "Negative probability:  17.92 %\n"
     ]
    }
   ],
   "source": [
    "if Yes_probability > No_probability:\n",
    "    \n",
    "    print(\"Positive probability: \", round(100*Yes_probability, 2), \"%\")\n",
    "else:\n",
    "    print(\"Negative probability: \", round(100*No_probability, 2), \"%\")"
   ]
  },
  {
   "cell_type": "markdown",
   "metadata": {
    "id": "UG1iROrFM3SS"
   },
   "source": [
    "## 2nd point"
   ]
  },
  {
   "cell_type": "code",
   "execution_count": 47,
   "metadata": {},
   "outputs": [
    {
     "name": "stdout",
     "output_type": "stream",
     "text": [
      "['i', 'love', 'mangoes', 'mangoes', 'are', 'a', 'lot', 'tastier', 'than', 'other', 'fruits', 'i', 'like', 'mangoes', 'because', 'they', 'are', 'good,', 'apples', 'are', 'good', 'too', 'but', 'i', 'prefer', 'mangoes', 'people', 'say', 'mango', 'is', 'the', 'king', 'of', 'fruit', 'so', 'that', 'is', 'why', 'mangoes', 'are', 'good', 'mangoes', 'are', 'good', 'because', 'they', 'are', 'juicy']\n"
     ]
    }
   ],
   "source": [
    "Positive =\"I love mangoes Mangoes are a lot tastier than other fruits I like mangoes because they are good, Apples are good too but I prefer mangoes People say mango is the king of fruit so that is why mangoes are good Mangoes are good because they are juicy\"\n",
    "Positive=Positive.lower()\n",
    "Positive = Positive.split(\" \")\n",
    "print(Positive)"
   ]
  },
  {
   "cell_type": "code",
   "execution_count": 52,
   "metadata": {},
   "outputs": [
    {
     "name": "stdout",
     "output_type": "stream",
     "text": [
      "['eating', 'too', 'many', 'mangoes', 'can', 'have', 'a', 'negative', 'impact', 'on', 'your', 'health', 'mangoes', 'are', 'good', 'but', 'not', 'too', 'good,', 'i', 'like', 'apples', 'more', 'than', 'mangoes', 'i', 'don’t', 'like', 'mangoes', 'because', 'they', 'are', 'expensive', 'mangoes', 'are', 'not', 'good.', 'i', 'don’t', 'like', 'mangoes']\n"
     ]
    }
   ],
   "source": [
    "Negative = 'Eating too many mangoes can have a negative impact on your health Mangoes are good but not too good, I like apples more than mangoes I don’t like mangoes because they are expensive Mangoes are not good. I don’t like mangoes'\n",
    "Negative=Negative.lower()\n",
    "Negative = Negative.split(\" \")\n",
    "print(Negative)"
   ]
  },
  {
   "cell_type": "code",
   "execution_count": 53,
   "metadata": {
    "id": "ld6cpy4gM3Wv"
   },
   "outputs": [
    {
     "name": "stdout",
     "output_type": "stream",
     "text": [
      "Enter sentence: I like apples more than mangoes\n",
      "['i', 'like', 'apples', 'more', 'than', 'mangoes']\n"
     ]
    }
   ],
   "source": [
    "str = input(\"Enter sentence: \")\n",
    "str=str.lower()\n",
    "str=str.split(\" \")\n",
    "print(str)"
   ]
  },
  {
   "cell_type": "markdown",
   "metadata": {},
   "source": [
    "# Naïve Bayes classification to detect the class of a test sentence."
   ]
  },
  {
   "cell_type": "markdown",
   "metadata": {},
   "source": [
    "## For Positive Probability"
   ]
  },
  {
   "cell_type": "markdown",
   "metadata": {},
   "source": [
    "####  returns the list of matching words (input/Positive)."
   ]
  },
  {
   "cell_type": "code",
   "execution_count": 54,
   "metadata": {
    "id": "c8seBdcHM3bu"
   },
   "outputs": [
    {
     "name": "stdout",
     "output_type": "stream",
     "text": [
      "12 matches : ['i', 'i', 'i', 'like', 'apples', 'than', 'mangoes', 'mangoes', 'mangoes', 'mangoes', 'mangoes', 'mangoes']\n"
     ]
    }
   ],
   "source": [
    "\n",
    "list=[]\n",
    "c=0\n",
    "for i in range(0, len(str)):\n",
    "    for j in range(0, len(Positive)):\n",
    "        if str[i] == Positive[j]:\n",
    "            c+=1\n",
    "            list.append(Positive[j])\n",
    "print(c,\"matches :\",list)"
   ]
  },
  {
   "cell_type": "markdown",
   "metadata": {},
   "source": [
    "####  returns the Frequency List of, how many times a word occur."
   ]
  },
  {
   "cell_type": "code",
   "execution_count": 55,
   "metadata": {},
   "outputs": [],
   "source": [
    "count=0\n",
    "Frequency_List=[]\n",
    "for i in range(0, len(str)):\n",
    "    for j in range(0, len(list)):\n",
    "        if str[i] == list[j]:\n",
    "            count+=1\n",
    "    Frequency_List.append(count)\n",
    "    count=0"
   ]
  },
  {
   "cell_type": "code",
   "execution_count": 56,
   "metadata": {},
   "outputs": [
    {
     "data": {
      "text/plain": [
       "[3, 1, 1, 0, 1, 6]"
      ]
     },
     "execution_count": 56,
     "metadata": {},
     "output_type": "execute_result"
    }
   ],
   "source": [
    "Frequency_List"
   ]
  },
  {
   "cell_type": "markdown",
   "metadata": {},
   "source": [
    "#### Chunk returning Probability List of words."
   ]
  },
  {
   "cell_type": "code",
   "execution_count": 57,
   "metadata": {},
   "outputs": [],
   "source": [
    "Probability_List=[]\n",
    "for i in range(0, len(Frequency_List)):\n",
    "    Probability_List.append(Frequency_List[i]/len(Positive))"
   ]
  },
  {
   "cell_type": "code",
   "execution_count": 58,
   "metadata": {},
   "outputs": [
    {
     "data": {
      "text/plain": [
       "[0.0625,\n",
       " 0.020833333333333332,\n",
       " 0.020833333333333332,\n",
       " 0.0,\n",
       " 0.020833333333333332,\n",
       " 0.125]"
      ]
     },
     "execution_count": 58,
     "metadata": {},
     "output_type": "execute_result"
    }
   ],
   "source": [
    "Probability_List"
   ]
  },
  {
   "cell_type": "code",
   "execution_count": 59,
   "metadata": {},
   "outputs": [
    {
     "data": {
      "text/plain": [
       "0.0"
      ]
     },
     "execution_count": 59,
     "metadata": {},
     "output_type": "execute_result"
    }
   ],
   "source": [
    "Probability_List[3]"
   ]
  },
  {
   "cell_type": "markdown",
   "metadata": {},
   "source": [
    "#### Multiplying all probabilities, then divides 6/11."
   ]
  },
  {
   "cell_type": "code",
   "execution_count": 60,
   "metadata": {},
   "outputs": [
    {
     "name": "stdout",
     "output_type": "stream",
     "text": [
      "7.064254195601851e-08\n"
     ]
    }
   ],
   "source": [
    "ProbabilityOf_userInput_Sentence1=1\n",
    "for i in range(0, len(Probability_List)):\n",
    "    if Probability_List[i] != 0:\n",
    "        ProbabilityOf_userInput_Sentence1*=Probability_List[i]\n",
    "print(ProbabilityOf_userInput_Sentence1)\n",
    "ProbabilityOf_userInput_Sentence1=ProbabilityOf_userInput_Sentence1*(6/11)"
   ]
  },
  {
   "cell_type": "markdown",
   "metadata": {},
   "source": [
    "## For Negative Probability"
   ]
  },
  {
   "cell_type": "markdown",
   "metadata": {},
   "source": [
    "#### This chunk returns the list of matching words (input/Negative)."
   ]
  },
  {
   "cell_type": "code",
   "execution_count": 61,
   "metadata": {},
   "outputs": [
    {
     "name": "stdout",
     "output_type": "stream",
     "text": [
      "15 matches : ['i', 'i', 'i', 'like', 'like', 'like', 'apples', 'more', 'than', 'mangoes', 'mangoes', 'mangoes', 'mangoes', 'mangoes', 'mangoes']\n"
     ]
    }
   ],
   "source": [
    "list=[]\n",
    "c=0\n",
    "for i in range(0, len(str)):\n",
    "    for j in range(0, len(Negative)):\n",
    "        if str[i] == Negative[j]:\n",
    "            c+=1\n",
    "            list.append(Negative[j])\n",
    "print(c,\"matches :\",list)"
   ]
  },
  {
   "cell_type": "markdown",
   "metadata": {},
   "source": [
    "#### This chunk returns the Frequency List of, how many times a word occur."
   ]
  },
  {
   "cell_type": "code",
   "execution_count": 62,
   "metadata": {},
   "outputs": [],
   "source": [
    "count=0\n",
    "Frequency_List=[]\n",
    "for i in range(0, len(str)):\n",
    "    for j in range(0, len(list)):\n",
    "        if str[i] == list[j]:\n",
    "            count+=1\n",
    "    Frequency_List.append(count)\n",
    "    count=0"
   ]
  },
  {
   "cell_type": "markdown",
   "metadata": {},
   "source": [
    "#### Chunk returning Probability List of words."
   ]
  },
  {
   "cell_type": "code",
   "execution_count": 63,
   "metadata": {},
   "outputs": [],
   "source": [
    "Probability_List=[]\n",
    "for i in range(0, len(Frequency_List)):\n",
    "    Probability_List.append(Frequency_List[i]/len(Positive))"
   ]
  },
  {
   "cell_type": "code",
   "execution_count": 64,
   "metadata": {},
   "outputs": [
    {
     "data": {
      "text/plain": [
       "[3, 3, 1, 1, 1, 6]"
      ]
     },
     "execution_count": 64,
     "metadata": {},
     "output_type": "execute_result"
    }
   ],
   "source": [
    "Frequency_List"
   ]
  },
  {
   "cell_type": "code",
   "execution_count": 65,
   "metadata": {},
   "outputs": [
    {
     "data": {
      "text/plain": [
       "0.020833333333333332"
      ]
     },
     "execution_count": 65,
     "metadata": {},
     "output_type": "execute_result"
    }
   ],
   "source": [
    "Probability_List[2]"
   ]
  },
  {
   "cell_type": "markdown",
   "metadata": {},
   "source": [
    "#### Multiplying all probabilities, then divides by 5/11."
   ]
  },
  {
   "cell_type": "code",
   "execution_count": 66,
   "metadata": {},
   "outputs": [
    {
     "name": "stdout",
     "output_type": "stream",
     "text": [
      "2.0068903964777988e-09\n"
     ]
    }
   ],
   "source": [
    "ProbabilityOf_userInput_Sentence2=1\n",
    "for i in range(0, len(Probability_List)):\n",
    "    if Probability_List[i] != 0:\n",
    "        ProbabilityOf_userInput_Sentence2 *= Probability_List[i]\n",
    "ProbabilityOf_userInput_Sentence2=ProbabilityOf_userInput_Sentence2*(5/11)\n",
    "print(ProbabilityOf_userInput_Sentence2)"
   ]
  },
  {
   "cell_type": "markdown",
   "metadata": {},
   "source": [
    "# Final Prediction"
   ]
  },
  {
   "cell_type": "code",
   "execution_count": 67,
   "metadata": {},
   "outputs": [
    {
     "name": "stdout",
     "output_type": "stream",
     "text": [
      "Positive Probability:  3.8532295612373734e-08\n"
     ]
    }
   ],
   "source": [
    "if ProbabilityOf_userInput_Sentence1 > ProbabilityOf_userInput_Sentence2:\n",
    "    print(\"Positive Probability: \", ProbabilityOf_userInput_Sentence1)\n",
    "else:\n",
    "    print(\"Negative Probability: \", ProbabilityOf_userInput_Sentence2)"
   ]
  },
  {
   "cell_type": "markdown",
   "metadata": {},
   "source": [
    "# Beysian Classification to classify the test sentence"
   ]
  },
  {
   "cell_type": "code",
   "execution_count": 68,
   "metadata": {},
   "outputs": [
    {
     "name": "stdout",
     "output_type": "stream",
     "text": [
      "['i', 'like', 'apples', 'more', 'than', 'mangoes']\n"
     ]
    }
   ],
   "source": [
    "print(str)"
   ]
  },
  {
   "cell_type": "markdown",
   "metadata": {},
   "source": [
    "#### This chunk returns the list of matching words (input/Negative)."
   ]
  },
  {
   "cell_type": "code",
   "execution_count": 69,
   "metadata": {},
   "outputs": [
    {
     "name": "stdout",
     "output_type": "stream",
     "text": [
      "12 matches : ['i', 'i', 'i', 'like', 'apples', 'than', 'mangoes', 'mangoes', 'mangoes', 'mangoes', 'mangoes', 'mangoes']\n"
     ]
    }
   ],
   "source": [
    "list=[]\n",
    "c=0\n",
    "for i in range(0, len(str)):\n",
    "    for j in range(0, len(Positive)):\n",
    "        if str[i] == Positive[j]:\n",
    "            c+=1\n",
    "            list.append(Positive[j])\n",
    "print(c,\"matches :\",list)"
   ]
  },
  {
   "cell_type": "markdown",
   "metadata": {},
   "source": [
    "#### This chunk returns the Frequency List of, how many times a word occur."
   ]
  },
  {
   "cell_type": "code",
   "execution_count": 70,
   "metadata": {},
   "outputs": [],
   "source": [
    "count=0\n",
    "Frequency_List=[]\n",
    "for i in range(0, len(str)):\n",
    "    for j in range(0, len(list)):\n",
    "        if str[i] == list[j]:\n",
    "            count+=1\n",
    "    Frequency_List.append(count)\n",
    "    count=0"
   ]
  },
  {
   "cell_type": "markdown",
   "metadata": {},
   "source": [
    "#### Chunk returning Probability List of words."
   ]
  },
  {
   "cell_type": "code",
   "execution_count": 71,
   "metadata": {},
   "outputs": [],
   "source": [
    "Probability_List=[]\n",
    "for i in range(0, len(Frequency_List)):\n",
    "    Probability_List.append(Frequency_List[i]/len(Positive))"
   ]
  },
  {
   "cell_type": "code",
   "execution_count": 72,
   "metadata": {},
   "outputs": [
    {
     "data": {
      "text/plain": [
       "[3, 1, 1, 0, 1, 6]"
      ]
     },
     "execution_count": 72,
     "metadata": {},
     "output_type": "execute_result"
    }
   ],
   "source": [
    "Frequency_List"
   ]
  },
  {
   "cell_type": "code",
   "execution_count": 73,
   "metadata": {},
   "outputs": [
    {
     "data": {
      "text/plain": [
       "[0.0625,\n",
       " 0.020833333333333332,\n",
       " 0.020833333333333332,\n",
       " 0.0,\n",
       " 0.020833333333333332,\n",
       " 0.125]"
      ]
     },
     "execution_count": 73,
     "metadata": {},
     "output_type": "execute_result"
    }
   ],
   "source": [
    "Probability_List"
   ]
  },
  {
   "cell_type": "code",
   "execution_count": 88,
   "metadata": {},
   "outputs": [
    {
     "name": "stdout",
     "output_type": "stream",
     "text": [
      "i\n"
     ]
    },
    {
     "ename": "IndexError",
     "evalue": "list index out of range",
     "output_type": "error",
     "traceback": [
      "\u001b[1;31m---------------------------------------------------------------------------\u001b[0m",
      "\u001b[1;31mIndexError\u001b[0m                                Traceback (most recent call last)",
      "\u001b[1;32m<ipython-input-88-caad4a634b0f>\u001b[0m in \u001b[0;36m<module>\u001b[1;34m\u001b[0m\n\u001b[0;32m      4\u001b[0m         \u001b[1;32mif\u001b[0m \u001b[0mstr\u001b[0m\u001b[1;33m[\u001b[0m\u001b[0mi\u001b[0m\u001b[1;33m]\u001b[0m \u001b[1;33m==\u001b[0m \u001b[0mPositive\u001b[0m\u001b[1;33m[\u001b[0m\u001b[0mj\u001b[0m\u001b[1;33m]\u001b[0m\u001b[1;33m:\u001b[0m\u001b[1;33m\u001b[0m\u001b[1;33m\u001b[0m\u001b[0m\n\u001b[0;32m      5\u001b[0m             \u001b[0mlist\u001b[0m\u001b[1;33m.\u001b[0m\u001b[0mappend\u001b[0m\u001b[1;33m(\u001b[0m\u001b[0mPositive\u001b[0m\u001b[1;33m[\u001b[0m\u001b[0mj\u001b[0m\u001b[1;33m]\u001b[0m\u001b[1;33m)\u001b[0m\u001b[1;33m\u001b[0m\u001b[1;33m\u001b[0m\u001b[0m\n\u001b[1;32m----> 6\u001b[1;33m             \u001b[1;32mif\u001b[0m \u001b[0mstr\u001b[0m\u001b[1;33m[\u001b[0m\u001b[0mi\u001b[0m\u001b[1;33m]\u001b[0m \u001b[1;33m==\u001b[0m \u001b[0mlist\u001b[0m\u001b[1;33m[\u001b[0m\u001b[0mj\u001b[0m\u001b[1;33m-\u001b[0m\u001b[1;36m1\u001b[0m\u001b[1;33m]\u001b[0m\u001b[1;33m:\u001b[0m\u001b[1;33m\u001b[0m\u001b[1;33m\u001b[0m\u001b[0m\n\u001b[0m\u001b[0;32m      7\u001b[0m                 \u001b[0mprint\u001b[0m\u001b[1;33m(\u001b[0m\u001b[0mstr\u001b[0m\u001b[1;33m[\u001b[0m\u001b[0mi\u001b[0m\u001b[1;33m]\u001b[0m\u001b[1;33m)\u001b[0m\u001b[1;33m\u001b[0m\u001b[1;33m\u001b[0m\u001b[0m\n\u001b[0;32m      8\u001b[0m                 \u001b[0mprobability_upperHalf\u001b[0m\u001b[1;33m+=\u001b[0m\u001b[1;36m1\u001b[0m\u001b[1;33m\u001b[0m\u001b[1;33m\u001b[0m\u001b[0m\n",
      "\u001b[1;31mIndexError\u001b[0m: list index out of range"
     ]
    }
   ],
   "source": [
    "probability_upperHalf=0\n",
    "for i in range(0, len(str)):\n",
    "    for j in range(0, len(Positive)):\n",
    "        if str[i] == Positive[j]:\n",
    "            list.append(Positive[j])\n",
    "            if str[i] == list[j-1]:\n",
    "                print(str[i])\n",
    "                probability_upperHalf+=1\n",
    "    list.clear()\n",
    "len(str),len(list)         \n",
    "\n",
    "\n",
    "\n",
    "probability_upperHalf=0\n",
    "secondary_probability_List=[]\n",
    "for i in range(0, len(str)):\n",
    "    for j in range(0, len(Positive)):\n",
    "        if str[i] == Positive[j]:\n",
    "            list.append(Positive[j])\n",
    "            if str[i] == list[j-1]:\n",
    "                print(str[i])\n",
    "                probability_upperHalf+=1\n",
    "            secondary_probability_List.append(probability_upperHalf)\n",
    "            probability_upperHalf=0\n",
    "    list.clear()\n",
    "      "
   ]
  },
  {
   "cell_type": "code",
   "execution_count": 89,
   "metadata": {},
   "outputs": [],
   "source": [
    "secondy_probability = probability_upperHalf/Probability_List[0]"
   ]
  },
  {
   "cell_type": "code",
   "execution_count": 76,
   "metadata": {},
   "outputs": [
    {
     "ename": "NameError",
     "evalue": "name 'secondary_probability_List' is not defined",
     "output_type": "error",
     "traceback": [
      "\u001b[1;31m---------------------------------------------------------------------------\u001b[0m",
      "\u001b[1;31mNameError\u001b[0m                                 Traceback (most recent call last)",
      "\u001b[1;32m<ipython-input-76-ab6a8f7906ee>\u001b[0m in \u001b[0;36m<module>\u001b[1;34m\u001b[0m\n\u001b[0;32m      2\u001b[0m \u001b[1;32mfor\u001b[0m \u001b[0mi\u001b[0m \u001b[1;32min\u001b[0m \u001b[0mrange\u001b[0m\u001b[1;33m(\u001b[0m\u001b[1;36m0\u001b[0m\u001b[1;33m,\u001b[0m \u001b[0mlen\u001b[0m\u001b[1;33m(\u001b[0m\u001b[0mstr\u001b[0m\u001b[1;33m)\u001b[0m\u001b[1;33m)\u001b[0m\u001b[1;33m:\u001b[0m\u001b[1;33m\u001b[0m\u001b[1;33m\u001b[0m\u001b[0m\n\u001b[0;32m      3\u001b[0m     \u001b[1;32mfor\u001b[0m \u001b[0mi\u001b[0m \u001b[1;32min\u001b[0m \u001b[0mrange\u001b[0m\u001b[1;33m(\u001b[0m\u001b[1;36m0\u001b[0m\u001b[1;33m,\u001b[0m \u001b[1;36m1\u001b[0m\u001b[1;33m)\u001b[0m\u001b[1;33m:\u001b[0m\u001b[1;33m\u001b[0m\u001b[1;33m\u001b[0m\u001b[0m\n\u001b[1;32m----> 4\u001b[1;33m         \u001b[0mpositive_Probability\u001b[0m \u001b[1;33m=\u001b[0m\u001b[0mProbability_List\u001b[0m\u001b[1;33m[\u001b[0m\u001b[1;36m0\u001b[0m\u001b[1;33m]\u001b[0m\u001b[1;33m*\u001b[0m\u001b[0msecondary_probability_List\u001b[0m\u001b[1;33m[\u001b[0m\u001b[0mi\u001b[0m\u001b[1;33m]\u001b[0m\u001b[1;33m\u001b[0m\u001b[1;33m\u001b[0m\u001b[0m\n\u001b[0m\u001b[0;32m      5\u001b[0m     \u001b[0mpositive_Probability\u001b[0m\u001b[1;33m*=\u001b[0m\u001b[0msecondary_probability_List\u001b[0m\u001b[1;33m\u001b[0m\u001b[1;33m\u001b[0m\u001b[0m\n\u001b[0;32m      6\u001b[0m \u001b[1;33m\u001b[0m\u001b[0m\n",
      "\u001b[1;31mNameError\u001b[0m: name 'secondary_probability_List' is not defined"
     ]
    }
   ],
   "source": [
    "positive_Probability=0\n",
    "for i in range(0, len(str)):\n",
    "    for i in range(0, 1):\n",
    "        \n",
    "        positive_Probability =Probability_List[0]*secondary_probability_List[i]\n",
    "    positive_Probability*=secondary_probability_List\n",
    "    "
   ]
  },
  {
   "cell_type": "code",
   "execution_count": 77,
   "metadata": {},
   "outputs": [
    {
     "data": {
      "text/plain": [
       "0"
      ]
     },
     "execution_count": 77,
     "metadata": {},
     "output_type": "execute_result"
    }
   ],
   "source": [
    "positive_Probability"
   ]
  },
  {
   "cell_type": "markdown",
   "metadata": {},
   "source": [
    "# Negative Probability"
   ]
  },
  {
   "cell_type": "code",
   "execution_count": 78,
   "metadata": {},
   "outputs": [
    {
     "name": "stdout",
     "output_type": "stream",
     "text": [
      "15 matches : ['i', 'i', 'i', 'like', 'like', 'like', 'apples', 'more', 'than', 'mangoes', 'mangoes', 'mangoes', 'mangoes', 'mangoes', 'mangoes']\n"
     ]
    }
   ],
   "source": [
    "list=[]\n",
    "c=0\n",
    "for i in range(0, len(str)):\n",
    "    for j in range(0, len(Negative)):\n",
    "        if str[i] == Negative[j]:\n",
    "            c+=1\n",
    "            list.append(Negative[j])\n",
    "print(c,\"matches :\",list)"
   ]
  },
  {
   "cell_type": "code",
   "execution_count": 79,
   "metadata": {},
   "outputs": [],
   "source": [
    "count=0\n",
    "Frequency_List=[]\n",
    "for i in range(0, len(str)):\n",
    "    for j in range(0, len(list)):\n",
    "        if str[i] == list[j]:\n",
    "            count+=1\n",
    "    Frequency_List.append(count)\n",
    "    count=0"
   ]
  },
  {
   "cell_type": "code",
   "execution_count": 80,
   "metadata": {},
   "outputs": [],
   "source": [
    "Probability_List=[]\n",
    "for i in range(0, len(Frequency_List)):\n",
    "    Probability_List.append(Frequency_List[i]/len(Negative))"
   ]
  },
  {
   "cell_type": "code",
   "execution_count": 81,
   "metadata": {},
   "outputs": [
    {
     "data": {
      "text/plain": [
       "[3, 3, 1, 1, 1, 6]"
      ]
     },
     "execution_count": 81,
     "metadata": {},
     "output_type": "execute_result"
    }
   ],
   "source": [
    "Frequency_List"
   ]
  },
  {
   "cell_type": "code",
   "execution_count": 82,
   "metadata": {},
   "outputs": [
    {
     "data": {
      "text/plain": [
       "[0.07317073170731707,\n",
       " 0.07317073170731707,\n",
       " 0.024390243902439025,\n",
       " 0.024390243902439025,\n",
       " 0.024390243902439025,\n",
       " 0.14634146341463414]"
      ]
     },
     "execution_count": 82,
     "metadata": {},
     "output_type": "execute_result"
    }
   ],
   "source": [
    "Probability_List"
   ]
  },
  {
   "cell_type": "code",
   "execution_count": 83,
   "metadata": {},
   "outputs": [
    {
     "name": "stdout",
     "output_type": "stream",
     "text": [
      "i\n",
      "i\n",
      "i\n",
      "like\n",
      "like\n",
      "like\n"
     ]
    },
    {
     "ename": "IndexError",
     "evalue": "list index out of range",
     "output_type": "error",
     "traceback": [
      "\u001b[1;31m---------------------------------------------------------------------------\u001b[0m",
      "\u001b[1;31mIndexError\u001b[0m                                Traceback (most recent call last)",
      "\u001b[1;32m<ipython-input-83-e2b12377638b>\u001b[0m in \u001b[0;36m<module>\u001b[1;34m\u001b[0m\n\u001b[0;32m      4\u001b[0m         \u001b[1;32mif\u001b[0m \u001b[0mstr\u001b[0m\u001b[1;33m[\u001b[0m\u001b[0mi\u001b[0m\u001b[1;33m]\u001b[0m \u001b[1;33m==\u001b[0m \u001b[0mNegative\u001b[0m\u001b[1;33m[\u001b[0m\u001b[0mj\u001b[0m\u001b[1;33m]\u001b[0m\u001b[1;33m:\u001b[0m\u001b[1;33m\u001b[0m\u001b[1;33m\u001b[0m\u001b[0m\n\u001b[0;32m      5\u001b[0m             \u001b[0mlist\u001b[0m\u001b[1;33m.\u001b[0m\u001b[0mappend\u001b[0m\u001b[1;33m(\u001b[0m\u001b[0mNegative\u001b[0m\u001b[1;33m[\u001b[0m\u001b[0mj\u001b[0m\u001b[1;33m]\u001b[0m\u001b[1;33m)\u001b[0m\u001b[1;33m\u001b[0m\u001b[1;33m\u001b[0m\u001b[0m\n\u001b[1;32m----> 6\u001b[1;33m             \u001b[1;32mif\u001b[0m \u001b[0mstr\u001b[0m\u001b[1;33m[\u001b[0m\u001b[0mi\u001b[0m\u001b[1;33m]\u001b[0m \u001b[1;33m==\u001b[0m \u001b[0mlist\u001b[0m\u001b[1;33m[\u001b[0m\u001b[0mi\u001b[0m\u001b[1;33m-\u001b[0m\u001b[1;36m1\u001b[0m\u001b[1;33m]\u001b[0m\u001b[1;33m:\u001b[0m\u001b[1;33m\u001b[0m\u001b[1;33m\u001b[0m\u001b[0m\n\u001b[0m\u001b[0;32m      7\u001b[0m                 \u001b[0mprint\u001b[0m\u001b[1;33m(\u001b[0m\u001b[0mstr\u001b[0m\u001b[1;33m[\u001b[0m\u001b[0mi\u001b[0m\u001b[1;33m]\u001b[0m\u001b[1;33m)\u001b[0m\u001b[1;33m\u001b[0m\u001b[1;33m\u001b[0m\u001b[0m\n\u001b[0;32m      8\u001b[0m                 \u001b[0mprobability_upperHalf\u001b[0m\u001b[1;33m+=\u001b[0m\u001b[1;36m1\u001b[0m\u001b[1;33m\u001b[0m\u001b[1;33m\u001b[0m\u001b[0m\n",
      "\u001b[1;31mIndexError\u001b[0m: list index out of range"
     ]
    }
   ],
   "source": [
    "probability_upperHalf=0\n",
    "for i in range(0, len(str)):\n",
    "    for j in range(0, len(Negative)):\n",
    "        if str[i] == Negative[j]:\n",
    "            list.append(Negative[j])\n",
    "            if str[i] == list[i-1]:\n",
    "                print(str[i])\n",
    "                probability_upperHalf+=1\n",
    "    list.clear()\n",
    "len(str),len(list)         "
   ]
  },
  {
   "cell_type": "code",
   "execution_count": 84,
   "metadata": {},
   "outputs": [],
   "source": [
    "secondy_probability = probability_upperHalf/Probability_List[0]"
   ]
  },
  {
   "cell_type": "code",
   "execution_count": 86,
   "metadata": {},
   "outputs": [
    {
     "data": {
      "text/plain": [
       "0"
      ]
     },
     "execution_count": 86,
     "metadata": {},
     "output_type": "execute_result"
    }
   ],
   "source": [
    "negative_Probability"
   ]
  },
  {
   "cell_type": "code",
   "execution_count": null,
   "metadata": {},
   "outputs": [],
   "source": []
  },
  {
   "cell_type": "code",
   "execution_count": null,
   "metadata": {},
   "outputs": [],
   "source": []
  },
  {
   "cell_type": "code",
   "execution_count": null,
   "metadata": {},
   "outputs": [],
   "source": []
  }
 ],
 "metadata": {
  "colab": {
   "collapsed_sections": [],
   "provenance": []
  },
  "kernelspec": {
   "display_name": "Python 3",
   "language": "python",
   "name": "python3"
  },
  "language_info": {
   "codemirror_mode": {
    "name": "ipython",
    "version": 3
   },
   "file_extension": ".py",
   "mimetype": "text/x-python",
   "name": "python",
   "nbconvert_exporter": "python",
   "pygments_lexer": "ipython3",
   "version": "3.8.8"
  }
 },
 "nbformat": 4,
 "nbformat_minor": 1
}
