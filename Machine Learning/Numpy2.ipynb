{
 "cells": [
  {
   "cell_type": "markdown",
   "metadata": {},
   "source": [
    "### Numpy Exercise\n",
    "In this exercise, we will be working with a dataset with the information of baseball players. Here is the code to read the dataset and convert it into lists."
   ]
  },
  {
   "cell_type": "code",
   "execution_count": 143,
   "metadata": {},
   "outputs": [
    {
     "name": "stdout",
     "output_type": "stream",
     "text": [
      "%pylab is deprecated, use %matplotlib inline and import the required libraries.\n",
      "Populating the interactive namespace from numpy and matplotlib\n"
     ]
    }
   ],
   "source": [
    "%pylab inline"
   ]
  },
  {
   "cell_type": "code",
   "execution_count": 144,
   "metadata": {},
   "outputs": [],
   "source": [
    "import pandas as pd"
   ]
  },
  {
   "cell_type": "code",
   "execution_count": 145,
   "metadata": {},
   "outputs": [
    {
     "data": {
      "text/html": [
       "<div>\n",
       "<style scoped>\n",
       "    .dataframe tbody tr th:only-of-type {\n",
       "        vertical-align: middle;\n",
       "    }\n",
       "\n",
       "    .dataframe tbody tr th {\n",
       "        vertical-align: top;\n",
       "    }\n",
       "\n",
       "    .dataframe thead th {\n",
       "        text-align: right;\n",
       "    }\n",
       "</style>\n",
       "<table border=\"1\" class=\"dataframe\">\n",
       "  <thead>\n",
       "    <tr style=\"text-align: right;\">\n",
       "      <th></th>\n",
       "      <th>Name</th>\n",
       "      <th>Team</th>\n",
       "      <th>Position</th>\n",
       "      <th>height</th>\n",
       "      <th>weights</th>\n",
       "      <th>Age</th>\n",
       "    </tr>\n",
       "  </thead>\n",
       "  <tbody>\n",
       "    <tr>\n",
       "      <th>0</th>\n",
       "      <td>Adam_Donachie</td>\n",
       "      <td>BAL</td>\n",
       "      <td>Catcher</td>\n",
       "      <td>74</td>\n",
       "      <td>180.0</td>\n",
       "      <td>22.99</td>\n",
       "    </tr>\n",
       "    <tr>\n",
       "      <th>1</th>\n",
       "      <td>Paul_Bako</td>\n",
       "      <td>BAL</td>\n",
       "      <td>Catcher</td>\n",
       "      <td>74</td>\n",
       "      <td>215.0</td>\n",
       "      <td>34.69</td>\n",
       "    </tr>\n",
       "    <tr>\n",
       "      <th>2</th>\n",
       "      <td>Ramon_Hernandez</td>\n",
       "      <td>BAL</td>\n",
       "      <td>Catcher</td>\n",
       "      <td>72</td>\n",
       "      <td>210.0</td>\n",
       "      <td>30.78</td>\n",
       "    </tr>\n",
       "    <tr>\n",
       "      <th>3</th>\n",
       "      <td>Kevin_Millar</td>\n",
       "      <td>BAL</td>\n",
       "      <td>First_Baseman</td>\n",
       "      <td>72</td>\n",
       "      <td>210.0</td>\n",
       "      <td>35.43</td>\n",
       "    </tr>\n",
       "    <tr>\n",
       "      <th>4</th>\n",
       "      <td>Chris_Gomez</td>\n",
       "      <td>BAL</td>\n",
       "      <td>First_Baseman</td>\n",
       "      <td>73</td>\n",
       "      <td>188.0</td>\n",
       "      <td>35.71</td>\n",
       "    </tr>\n",
       "    <tr>\n",
       "      <th>...</th>\n",
       "      <td>...</td>\n",
       "      <td>...</td>\n",
       "      <td>...</td>\n",
       "      <td>...</td>\n",
       "      <td>...</td>\n",
       "      <td>...</td>\n",
       "    </tr>\n",
       "    <tr>\n",
       "      <th>1029</th>\n",
       "      <td>Brad_Thompson</td>\n",
       "      <td>STL</td>\n",
       "      <td>Relief_Pitcher</td>\n",
       "      <td>73</td>\n",
       "      <td>190.0</td>\n",
       "      <td>25.08</td>\n",
       "    </tr>\n",
       "    <tr>\n",
       "      <th>1030</th>\n",
       "      <td>Tyler_Johnson</td>\n",
       "      <td>STL</td>\n",
       "      <td>Relief_Pitcher</td>\n",
       "      <td>74</td>\n",
       "      <td>180.0</td>\n",
       "      <td>25.73</td>\n",
       "    </tr>\n",
       "    <tr>\n",
       "      <th>1031</th>\n",
       "      <td>Chris_Narveson</td>\n",
       "      <td>STL</td>\n",
       "      <td>Relief_Pitcher</td>\n",
       "      <td>75</td>\n",
       "      <td>205.0</td>\n",
       "      <td>25.19</td>\n",
       "    </tr>\n",
       "    <tr>\n",
       "      <th>1032</th>\n",
       "      <td>Randy_Keisler</td>\n",
       "      <td>STL</td>\n",
       "      <td>Relief_Pitcher</td>\n",
       "      <td>75</td>\n",
       "      <td>190.0</td>\n",
       "      <td>31.01</td>\n",
       "    </tr>\n",
       "    <tr>\n",
       "      <th>1033</th>\n",
       "      <td>Josh_Kinney</td>\n",
       "      <td>STL</td>\n",
       "      <td>Relief_Pitcher</td>\n",
       "      <td>73</td>\n",
       "      <td>195.0</td>\n",
       "      <td>27.92</td>\n",
       "    </tr>\n",
       "  </tbody>\n",
       "</table>\n",
       "<p>1034 rows × 6 columns</p>\n",
       "</div>"
      ],
      "text/plain": [
       "                Name  Team        Position   height  weights   Age \n",
       "0       Adam_Donachie   BAL         Catcher      74    180.0  22.99\n",
       "1           Paul_Bako   BAL         Catcher      74    215.0  34.69\n",
       "2     Ramon_Hernandez   BAL         Catcher      72    210.0  30.78\n",
       "3        Kevin_Millar   BAL   First_Baseman      72    210.0  35.43\n",
       "4         Chris_Gomez   BAL   First_Baseman      73    188.0  35.71\n",
       "...               ...   ...             ...     ...      ...    ...\n",
       "1029    Brad_Thompson   STL  Relief_Pitcher      73    190.0  25.08\n",
       "1030    Tyler_Johnson   STL  Relief_Pitcher      74    180.0  25.73\n",
       "1031   Chris_Narveson   STL  Relief_Pitcher      75    205.0  25.19\n",
       "1032    Randy_Keisler   STL  Relief_Pitcher      75    190.0  31.01\n",
       "1033      Josh_Kinney   STL  Relief_Pitcher      73    195.0  27.92\n",
       "\n",
       "[1034 rows x 6 columns]"
      ]
     },
     "execution_count": 145,
     "metadata": {},
     "output_type": "execute_result"
    }
   ],
   "source": [
    "baseball=pd.read_csv('baseball.csv')\n",
    "\n",
    "baseball"
   ]
  },
  {
   "cell_type": "code",
   "execution_count": 146,
   "metadata": {},
   "outputs": [],
   "source": [
    "height=list(bbdata['height'])\n",
    "weight=list(bbdata['weights'])"
   ]
  },
  {
   "cell_type": "code",
   "execution_count": 147,
   "metadata": {},
   "outputs": [
    {
     "data": {
      "text/plain": [
       "<matplotlib.collections.PathCollection at 0x223a0a44fa0>"
      ]
     },
     "execution_count": 147,
     "metadata": {},
     "output_type": "execute_result"
    },
    {
     "data": {
      "image/png": "[encoded data removed]",
      "text/plain": [
       "<Figure size 640x480 with 1 Axes>"
      ]
     },
     "metadata": {},
     "output_type": "display_data"
    }
   ],
   "source": [
    "plt.scatter(height,weight)"
   ]
  },
  {
   "cell_type": "markdown",
   "metadata": {},
   "source": [
    "### Real Work begins\n",
    "We have height and weidths as lists now, you task is to convert them into numpy arrays and then acheive the following insights.\n",
    "The units are height in inches, weight in Kgs"
   ]
  },
  {
   "cell_type": "code",
   "execution_count": null,
   "metadata": {},
   "outputs": [],
   "source": []
  },
  {
   "cell_type": "code",
   "execution_count": 160,
   "metadata": {},
   "outputs": [
    {
     "name": "stdout",
     "output_type": "stream",
     "text": [
      "Array of Height is:  [74 74 72 ... 75 75 73]\n",
      "Array of weight is :  [81.64656 97.52228 95.25432 ... 92.98636 86.18248 88.45044]\n"
     ]
    }
   ],
   "source": [
    "# height is available as a regular list\n",
    "\n",
    "# Import numpy\n",
    "import numpy as np\n",
    "\n",
    "# Create a Numpy array from height: np_height\n",
    "# converting list to array\n",
    "np_height = np.array(height)\n",
    "\n",
    "\n",
    "# Print out np_height\n",
    "print (\"Array of Height is: \", np_height)\n",
    "np_height = np.array(height)\n",
    "\n",
    "np_weight = np.array(weight)\n",
    "# Create array from weight with correct units: np_weight_kg \n",
    "np_weight_kg = np.array(weight)* 0.453592\n",
    "\n",
    "\n",
    "# print the array np_weight_kg\n",
    "print (\"Array of weight is : \", np_weight_kg)"
   ]
  },
  {
   "cell_type": "markdown",
   "metadata": {},
   "source": [
    "* 1 meter = 39.3701 inches"
   ]
  },
  {
   "cell_type": "code",
   "execution_count": 161,
   "metadata": {},
   "outputs": [
    {
     "name": "stdout",
     "output_type": "stream",
     "text": [
      "[1.8796 1.8796 1.8288 ... 1.905  1.905  1.8542]\n"
     ]
    }
   ],
   "source": [
    "# Convert np_height to meters: np_height_m\n",
    "np_height_m = np.array(height) * 0.0254\n",
    "# Print np_height_m\n",
    "print(np_height_m)\n",
    "# Print out bmi\n"
   ]
  },
  {
   "cell_type": "markdown",
   "metadata": {},
   "source": [
    "- BMI=weight(kg)/(height (in m)**2)"
   ]
  },
  {
   "cell_type": "code",
   "execution_count": 162,
   "metadata": {},
   "outputs": [
    {
     "data": {
      "text/plain": [
       "array([23.11037639, 27.60406069, 28.48080465, ..., 25.62295933,\n",
       "       23.74810865, 25.72686361])"
      ]
     },
     "execution_count": 162,
     "metadata": {},
     "output_type": "execute_result"
    }
   ],
   "source": [
    "bmi = np_weight_kg / np_height_m ** 2\n",
    "bmi"
   ]
  },
  {
   "cell_type": "markdown",
   "metadata": {},
   "source": [
    "Create a boolean Numpy array: the element of the array should be True if the corresponding baseball player's BMI is below 21. You can use the < operator for this. Name the array light.\n",
    "Print the array light.\n",
    "Print out a Numpy array with the BMIs of all baseball players whose BMI is below 21. Use light inside square brackets to do a selection on the bmi array.\n"
   ]
  },
  {
   "cell_type": "code",
   "execution_count": 163,
   "metadata": {},
   "outputs": [
    {
     "name": "stdout",
     "output_type": "stream",
     "text": [
      "[False False False ... False False False]\n",
      "[20.54255679 20.54255679 20.69282047 20.69282047 20.34343189 20.34343189\n",
      " 20.69282047 20.15883472 19.4984471  20.69282047 20.9205219 ]\n"
     ]
    }
   ],
   "source": [
    "light = bmi < 21\n",
    "print(light)\n",
    "print(bmi[light])"
   ]
  },
  {
   "cell_type": "code",
   "execution_count": 164,
   "metadata": {},
   "outputs": [
    {
     "name": "stdout",
     "output_type": "stream",
     "text": [
      "[[180.   78.4]\n",
      " [215.  102.7]\n",
      " [210.   98.5]\n",
      " [188.   75.2]]\n",
      "<class 'numpy.ndarray'>\n",
      "(4, 2)\n"
     ]
    }
   ],
   "source": [
    "# Create baseball, a list of lists\n",
    "baseball = [[180, 78.4],\n",
    "            [215, 102.7],\n",
    "            [210, 98.5],\n",
    "            [188, 75.2]]\n",
    "\n",
    "# Import numpy\n",
    "import numpy as np\n",
    "\n",
    "# Create a 2D numpy array from baseball: np_baseball\n",
    "np_baseball = np.array(baseball)\n",
    "print(np_baseball)\n",
    "\n",
    "# Print out the type of np_baseball\n",
    "print(type(np_baseball))\n",
    "\n",
    "# Print out the shape of np_baseball\n",
    "print(np_baseball.shape)\n"
   ]
  },
  {
   "cell_type": "code",
   "execution_count": 165,
   "metadata": {},
   "outputs": [
    {
     "name": "stdout",
     "output_type": "stream",
     "text": [
      "(1034,)\n",
      "(1034,)\n"
     ]
    }
   ],
   "source": [
    "# Create a 2D Numpy array named np_baseball from the lists of weight and height\n",
    "np_baseball_w = np.array(weight)\n",
    "np_baseball_h= np.array(height)\n",
    "\n",
    "\n",
    "\n",
    "# Print out the shape of np_baseball\n",
    "print(np_baseball_w.shape)\n",
    "print(np_baseball_h.shape)\n",
    "\n"
   ]
  },
  {
   "cell_type": "markdown",
   "metadata": {},
   "source": [
    "- If you want to convert the units of height and weight. As a first step, create a Numpy array with two values: 0.0254, 0.453592. Name this array conversion.\n",
    "Multiply np_baseball with conversion and print out the result."
   ]
  },
  {
   "cell_type": "code",
   "execution_count": 192,
   "metadata": {},
   "outputs": [
    {
     "name": "stdout",
     "output_type": "stream",
     "text": [
      "[[ 4.572     35.5616128]\n",
      " [ 5.461     46.5838984]\n",
      " [ 5.334     44.678812 ]\n",
      " [ 4.7752    34.1101184]]\n"
     ]
    }
   ],
   "source": [
    "conversion = np.array([0.0254, 0.453592])\n",
    "print(np_baseball * conversion)"
   ]
  },
  {
   "cell_type": "markdown",
   "metadata": {},
   "source": [
    "### Now it's time for some statistics"
   ]
  },
  {
   "cell_type": "code",
   "execution_count": 166,
   "metadata": {},
   "outputs": [
    {
     "name": "stdout",
     "output_type": "stream",
     "text": [
      "73.6972920696325\n",
      "1.8719112185686653\n",
      "74.0\n",
      "1.8796\n",
      "Median: 199.0\n",
      "Standard Deviation: 14.635146053251399\n",
      "Correlation: [[1.         0.95865738]\n",
      " [0.95865738 1.        ]]\n"
     ]
    }
   ],
   "source": [
    "# Print out the mean of np_height\n",
    "print(np.mean(np_height))      ## in inches\n",
    "print(np.mean(np_height_m))   #in meter\n",
    "\n",
    "# Print out the median of np_height\n",
    "print(np.median(np_height))      ## in inches\n",
    "print(np.median(np_height_m))   #in meter\n",
    "\n",
    "\n",
    "# Print median height. Replace 'None'\n",
    "med= np.median(np_baseball[:, 0])\n",
    "print(\"Median: \" + str(med))\n",
    "\n",
    "# Print out the standard deviation on height. Replace 'None'\n",
    "standard_dev = np.std(np_baseball[:,0])\n",
    "print(\"Standard Deviation: \" + str(standard_dev))\n",
    "\n",
    "# Print out correlation between first and second column. Replace 'None'\n",
    "corr = np.corrcoef(np_baseball[:,0], np_baseball[:,1])\n",
    "print(\"Correlation: \" + str(corr))\n"
   ]
  },
  {
   "cell_type": "code",
   "execution_count": 167,
   "metadata": {},
   "outputs": [
    {
     "name": "stdout",
     "output_type": "stream",
     "text": [
      "Player with max height:  83\n"
     ]
    }
   ],
   "source": [
    "# Print the index of player with maximum height\n",
    "print(\"Player with max height: \", max(np_height))"
   ]
  },
  {
   "cell_type": "code",
   "execution_count": 168,
   "metadata": {},
   "outputs": [
    {
     "name": "stdout",
     "output_type": "stream",
     "text": [
      "[6.        6.        5.9999976 ... 6.        6.        6.       ]\n"
     ]
    }
   ],
   "source": [
    "#Replace all the players height greater than 6 Feet with 6 Feet\n",
    "np_height1=np_height*0.0833333\n",
    "np_height1[np_height1 > 6] = 6\n",
    "print(np_height1)"
   ]
  },
  {
   "cell_type": "code",
   "execution_count": 169,
   "metadata": {},
   "outputs": [
    {
     "data": {
      "text/plain": [
       "211"
      ]
     },
     "execution_count": 169,
     "metadata": {},
     "output_type": "execute_result"
    }
   ],
   "source": [
    "#Count number of players with weight greater than 75 kg..\n",
    "np.count_nonzero(np_height >75)"
   ]
  },
  {
   "cell_type": "code",
   "execution_count": 170,
   "metadata": {},
   "outputs": [
    {
     "name": "stdout",
     "output_type": "stream",
     "text": [
      "[67 67 68 ... 82 82 83]\n",
      "[1007 1008  773 ...  881  573  928]\n"
     ]
    }
   ],
   "source": [
    "# Sort the height, and get the sorting index as well\n",
    "print(np.sort(np_height))\n",
    "\n",
    "print(np.argsort(np_height))"
   ]
  },
  {
   "cell_type": "code",
   "execution_count": 172,
   "metadata": {},
   "outputs": [
    {
     "data": {
      "text/plain": [
       "<matplotlib.collections.PathCollection at 0x223a0961c40>"
      ]
     },
     "execution_count": 172,
     "metadata": {},
     "output_type": "execute_result"
    },
    {
     "data": {
      "image/png": "[encoded data removed]",
      "text/plain": [
       "<Figure size 640x480 with 1 Axes>"
      ]
     },
     "metadata": {},
     "output_type": "display_data"
    }
   ],
   "source": [
    "#Generate Scatter Plot, See plt.scatter, use height as one axis and weight as second axis\n",
    "plt.scatter(np_height, np_weight)"
   ]
  },
  {
   "cell_type": "code",
   "execution_count": 173,
   "metadata": {},
   "outputs": [],
   "source": [
    "#Now choose a random player, and project player height and weight to this random player, you can plot\n",
    "# the vector using plt.arrow function"
   ]
  },
  {
   "cell_type": "markdown",
   "metadata": {},
   "source": [
    "#### Advanced Operations"
   ]
  },
  {
   "cell_type": "markdown",
   "metadata": {},
   "source": [
    "1. Construct an array from the list: [1,2,3]\n",
    "2. Cast it into floats\n",
    "3. Create an array of int ranging from 0-10 \n",
    "4. Create an array containing 7 evenly spaced numbers between 0 and 23\n",
    "5. Create an array with shape (2,5,1,5,2,1) containing only the number 5\n",
    "6. Eliminate all length-1 dimensions. See the function squeeze.\n",
    "7. Reshape the resulting array from shape (2,5,3,2) to only 2D\n",
    "8. Calculate the mean, std, var, max, min, of an array with shape (3,3,12,3) containing floats drawn\n",
    "from a normal distribution with mean 21 and sigma 4.5. see the np.random.normal.\n",
    "9. Do the same but not on all elements but only on the 2nd dimension. \n",
    "10. Transform the array such that it is only 1d. See the function Flatten or ravel\n",
    "11. Remove all values smaller 15 and larger 26.\n",
    "12. Clip all values smaller 15 and larger 26 to NaN. See the function Clip\n",
    "13. Calculate the sum of the resulting array. It should not be NaN!.\n",
    "14. Convert the NaN’s to 0.0. See Where\n",
    "15. Save the array and load it again."
   ]
  },
  {
   "cell_type": "code",
   "execution_count": 174,
   "metadata": {},
   "outputs": [
    {
     "data": {
      "text/plain": [
       "array([1, 2, 3])"
      ]
     },
     "execution_count": 174,
     "metadata": {},
     "output_type": "execute_result"
    }
   ],
   "source": [
    "np_array = np.array([1,2,3])\n",
    "np_array"
   ]
  },
  {
   "cell_type": "code",
   "execution_count": 175,
   "metadata": {},
   "outputs": [
    {
     "data": {
      "text/plain": [
       "array([1., 2., 3.])"
      ]
     },
     "execution_count": 175,
     "metadata": {},
     "output_type": "execute_result"
    }
   ],
   "source": [
    "np_array_float = np_array.astype(float)\n",
    "np_array_float"
   ]
  },
  {
   "cell_type": "code",
   "execution_count": 176,
   "metadata": {},
   "outputs": [
    {
     "data": {
      "text/plain": [
       "array([0, 1, 2, 3, 4, 5, 6, 7, 8, 9])"
      ]
     },
     "execution_count": 176,
     "metadata": {},
     "output_type": "execute_result"
    }
   ],
   "source": [
    "np.arange(10, dtype=int)"
   ]
  },
  {
   "cell_type": "code",
   "execution_count": 177,
   "metadata": {},
   "outputs": [
    {
     "data": {
      "text/plain": [
       "array([ 0.        ,  3.83333333,  7.66666667, 11.5       , 15.33333333,\n",
       "       19.16666667, 23.        ])"
      ]
     },
     "execution_count": 177,
     "metadata": {},
     "output_type": "execute_result"
    }
   ],
   "source": [
    "np_linspace = np.linspace(0,23,7)\n",
    "np_linspace"
   ]
  },
  {
   "cell_type": "code",
   "execution_count": 178,
   "metadata": {},
   "outputs": [],
   "source": [
    "long_range = np.ones((2,5,1,5,2,1))*5"
   ]
  },
  {
   "cell_type": "code",
   "execution_count": 180,
   "metadata": {},
   "outputs": [
    {
     "data": {
      "text/plain": [
       "array([[5., 5., 5., 5., 5., 5., 5., 5., 5., 5.],\n",
       "       [5., 5., 5., 5., 5., 5., 5., 5., 5., 5.],\n",
       "       [5., 5., 5., 5., 5., 5., 5., 5., 5., 5.],\n",
       "       [5., 5., 5., 5., 5., 5., 5., 5., 5., 5.],\n",
       "       [5., 5., 5., 5., 5., 5., 5., 5., 5., 5.],\n",
       "       [5., 5., 5., 5., 5., 5., 5., 5., 5., 5.],\n",
       "       [5., 5., 5., 5., 5., 5., 5., 5., 5., 5.],\n",
       "       [5., 5., 5., 5., 5., 5., 5., 5., 5., 5.],\n",
       "       [5., 5., 5., 5., 5., 5., 5., 5., 5., 5.],\n",
       "       [5., 5., 5., 5., 5., 5., 5., 5., 5., 5.]])"
      ]
     },
     "execution_count": 180,
     "metadata": {},
     "output_type": "execute_result"
    }
   ],
   "source": [
    "sque = long_range.squeeze()\n",
    "sque.reshape((10,10))"
   ]
  },
  {
   "cell_type": "code",
   "execution_count": 181,
   "metadata": {},
   "outputs": [
    {
     "name": "stdout",
     "output_type": "stream",
     "text": [
      "Mean:  21.141196491301642\n",
      "Std:  4.4468401021650985\n"
     ]
    }
   ],
   "source": [
    "distributed = np.random.normal(loc=21, scale=4.5, size=(3, 3, 12, 3))\n",
    "print(\"Mean: \", distributed.mean())\n",
    "print(\"Std: \", distributed.std())\n"
   ]
  },
  {
   "cell_type": "code",
   "execution_count": 182,
   "metadata": {},
   "outputs": [
    {
     "name": "stdout",
     "output_type": "stream",
     "text": [
      "var:  19.774386894223703\n",
      "Max:  31.254871545176513\n",
      "Min:  9.61614396889777\n"
     ]
    }
   ],
   "source": [
    "print(\"var: \", distributed.var())\n",
    "print(\"Max: \", distributed.max())\n",
    "print(\"Min: \", distributed.min())"
   ]
  },
  {
   "cell_type": "code",
   "execution_count": 183,
   "metadata": {},
   "outputs": [
    {
     "name": "stdout",
     "output_type": "stream",
     "text": [
      "Mean:  [[[21.99419465 20.35049217 22.52377243]\n",
      "  [22.42913459 20.22207294 22.48214103]\n",
      "  [19.89858155 20.61223933 21.45514743]]\n",
      "\n",
      " [[17.15310468 21.62342503 21.85906956]\n",
      "  [21.83362294 21.01755337 22.39225758]\n",
      "  [19.60849582 21.96836207 21.30746178]]\n",
      "\n",
      " [[22.34478915 20.59569504 20.89356253]\n",
      "  [20.18629008 20.45174804 19.45058827]\n",
      "  [20.92478609 22.72786647 22.50585064]]]\n",
      "Std:  [[[3.37394602 3.95603152 4.83890089]\n",
      "  [3.22600032 3.20665138 5.22851053]\n",
      "  [5.95113123 3.85605444 3.97213377]]\n",
      "\n",
      " [[4.31364832 4.16675044 3.66845019]\n",
      "  [4.74436978 3.82482713 4.14002308]\n",
      "  [2.991466   5.55460964 3.04876662]]\n",
      "\n",
      " [[4.16458227 4.57689385 4.70112586]\n",
      "  [4.8690591  4.64659307 3.27071908]\n",
      "  [4.62465995 4.1428127  4.4594539 ]]]\n",
      "var:  [[[11.38351172 15.65018541 23.41496186]\n",
      "  [10.40707809 10.28261306 27.33732232]\n",
      "  [35.4159629  14.86915587 15.77784671]]\n",
      "\n",
      " [[18.6075618  17.36180927 13.4575268 ]\n",
      "  [22.5090446  14.62930261 17.13979113]\n",
      "  [ 8.94886886 30.85368825  9.29497787]]\n",
      "\n",
      " [[17.34374551 20.94795732 22.10058439]\n",
      "  [23.70773651 21.59082712 10.69760328]\n",
      "  [21.38747967 17.16289706 19.88672912]]]\n",
      "Max:  [[[27.96678955 25.14281715 28.58358205]\n",
      "  [29.09862922 26.27984027 29.56321506]\n",
      "  [31.25487155 25.13085844 26.91481387]]\n",
      "\n",
      " [[23.08074986 27.40471662 29.29881132]\n",
      "  [29.97133326 28.18488819 28.92144461]\n",
      "  [24.89147809 31.24140662 26.41884066]]\n",
      "\n",
      " [[27.60256497 26.01636664 28.92899955]\n",
      "  [26.9632086  29.37024636 23.89418506]\n",
      "  [28.70267802 30.56734987 30.37592054]]]\n",
      "Min:  [[[15.20705418 11.12150374 11.06693094]\n",
      "  [18.41783433 15.32819152 14.24452379]\n",
      "  [11.05648294 11.9646638  15.01182425]]\n",
      "\n",
      " [[ 9.61614397 13.06658994 16.62470089]\n",
      "  [13.68216268 12.57920622 13.50581323]\n",
      "  [15.33448658 14.3956498  16.46549925]]\n",
      "\n",
      " [[11.93671564 13.48596283 12.78575263]\n",
      "  [11.86581318 13.34862128  9.90769154]\n",
      "  [12.82554537 16.17019113 15.65523628]]]\n"
     ]
    }
   ],
   "source": [
    "print(\"Mean: \", distributed.mean(2))\n",
    "print(\"Std: \", distributed.std(2))\n",
    "print(\"var: \", distributed.var(2))\n",
    "print(\"Max: \", distributed.max(2))\n",
    "print(\"Min: \", distributed.min(2))"
   ]
  },
  {
   "cell_type": "code",
   "execution_count": 184,
   "metadata": {},
   "outputs": [
    {
     "data": {
      "text/plain": [
       "array([22.29782643, 21.7356794 , 22.31660967, 22.83990744, 20.70278672,\n",
       "       17.53918985, 21.34399856, 11.12150374, 21.68302961, 20.56380838,\n",
       "       25.14281715, 25.91060848, 24.10555537, 23.87909229, 11.06693094,\n",
       "       15.20705418, 15.64468852, 22.73143036, 20.97329139, 24.37079497,\n",
       "       22.18875051, 27.96678955, 20.92385394, 28.30649893, 17.88209898,\n",
       "       23.81030421, 23.59056065, 23.59595194, 17.16302205, 18.69364278,\n",
       "       20.29046073, 21.25418756, 28.58358205, 26.86359285, 18.4571755 ,\n",
       "       27.67443534, 23.02795691, 19.53754138, 15.51069618, 23.80330261,\n",
       "       24.49611544, 28.2415769 , 29.09862922, 15.32819152, 17.60874963,\n",
       "       21.71442203, 26.27984027, 29.56321506, 20.62823395, 21.3024443 ,\n",
       "       28.92594526, 21.09481488, 22.13201314, 26.50726488, 27.02150452,\n",
       "       17.14843991, 22.72278105, 20.02110463, 19.04660776, 23.56459328,\n",
       "       19.48018878, 21.12511419, 18.3833717 , 18.41783433, 15.95583998,\n",
       "       18.47031262, 19.18461271, 22.31736336, 14.24452379, 25.6570105 ,\n",
       "       17.99536409, 26.04266197, 16.85698014, 22.55756505, 15.04037044,\n",
       "       24.29458716, 24.57483772, 24.2471413 , 21.67763439, 14.65034103,\n",
       "       15.01182425, 20.3166178 , 24.30421594, 23.58202643, 11.05648294,\n",
       "       22.9442989 , 22.7717675 , 16.03603708, 25.13085844, 26.91481387,\n",
       "       17.24290119, 21.12118065, 21.73893294, 17.25250644, 19.07991187,\n",
       "       16.17064346, 20.94140375, 22.1004681 , 23.87838565, 29.69441156,\n",
       "       11.9646638 , 23.46393964, 12.15854463, 18.55071848, 25.74112104,\n",
       "       31.25487155, 20.367812  , 18.90080267, 18.96530952, 22.75283716,\n",
       "       22.66889989, 14.67177645, 18.39644652, 23.42061237, 10.98134465,\n",
       "       23.19914312, 18.72869711, 16.36643956, 25.41130074, 24.81815238,\n",
       "       20.2526914 , 19.55617607, 26.35882002, 19.91427989, 27.40471662,\n",
       "       23.64679614, 23.08074986, 26.71414209, 18.92574683,  9.61614397,\n",
       "       20.60289361, 20.08848476, 13.02649746, 17.45675725, 29.29881132,\n",
       "       22.36738691, 13.06658994, 20.27434627, 21.39003915, 19.05507443,\n",
       "       16.62470089, 15.20459733, 25.86502285, 17.4547667 , 24.97890774,\n",
       "       17.63662353, 22.5999679 , 29.97133326, 21.05766576, 22.35660403,\n",
       "       25.00843518, 24.91513079, 28.92144461, 19.83128479, 12.57920622,\n",
       "       26.19180671, 19.33931459, 22.44084251, 23.40064918, 21.05597868,\n",
       "       20.24412605, 22.4743786 , 26.52323403, 17.7606871 , 24.15237556,\n",
       "       27.0342323 , 20.1598554 , 16.72285384, 13.68216268, 28.18488819,\n",
       "       27.38805993, 20.88772526, 21.21455991, 13.50581323, 14.98339051,\n",
       "       24.4948488 , 21.2673681 , 18.7074763 , 21.52220619, 19.72576931,\n",
       "       17.21074254, 23.98729658, 25.20676934, 20.15777073, 14.3956498 ,\n",
       "       18.5949749 , 17.39534372, 16.70853539, 22.95487497, 15.33448658,\n",
       "       18.34974142, 18.11901495, 15.98468094, 31.01733354, 20.96630412,\n",
       "       23.54573334, 30.09651199, 22.45079506, 24.89147809, 31.24140662,\n",
       "       20.14293701, 22.13267314, 18.7011609 , 25.41915089, 22.94248445,\n",
       "       19.06891895, 19.72663367, 17.88134605, 20.24556375, 26.41884066,\n",
       "       19.21920304, 21.23645695, 19.22374658, 18.60600717, 18.5717689 ,\n",
       "       16.46549925, 26.49744721, 13.48596283, 20.6489655 , 26.13872507,\n",
       "       22.47965595, 15.65049837, 25.93882727, 22.83952626, 24.00439562,\n",
       "       21.91302759, 16.03795264, 21.51884101, 21.29038663, 25.25147336,\n",
       "       23.38997039, 24.58913468, 16.7653806 , 21.71389324, 21.86496051,\n",
       "       24.9676412 , 28.39731653, 27.60256497, 21.82465014, 19.90618333,\n",
       "       19.88662386, 13.58078001, 16.17322539, 21.98949779, 26.01636664,\n",
       "       28.92899955, 11.93671564, 25.96445441, 12.78575263, 18.48955852,\n",
       "       17.93449649, 17.60470878, 17.14854938, 16.2326457 , 18.79406375,\n",
       "       22.0201508 , 14.97121752, 22.59237237, 11.86581318, 20.41953396,\n",
       "       18.57592743, 24.73489824, 23.1788064 , 20.40319216, 23.95543117,\n",
       "       24.13599092, 19.11688262, 24.23746099, 23.45398636, 18.80186763,\n",
       "       14.66402367, 18.16295882, 20.86993377, 13.15445518, 15.1943057 ,\n",
       "       19.37555756, 26.9632086 , 13.34862128, 21.11584937, 22.10482326,\n",
       "       23.30540912,  9.90769154, 17.42992751, 29.37024636, 23.89418506,\n",
       "       23.95673899, 23.64725439, 19.95953593, 12.82554537, 25.94610361,\n",
       "       26.68330267, 17.79912281, 30.56734987, 16.26215263, 18.42592282,\n",
       "       16.17019113, 24.83829621, 24.57575399, 17.77287433, 21.33752409,\n",
       "       15.54417042, 20.83893009, 20.75765351, 24.04877224, 22.74831656,\n",
       "       21.19795955, 18.60960958, 20.89229888, 15.65523628, 25.51973278,\n",
       "       28.79358947, 18.96096694, 24.49580399, 23.57051437, 30.37592054,\n",
       "       16.9260778 , 23.82131434, 26.57149298, 23.62424328, 23.41078559,\n",
       "       19.85830555, 28.70267802, 18.20212936, 27.57139672])"
      ]
     },
     "execution_count": 184,
     "metadata": {},
     "output_type": "execute_result"
    }
   ],
   "source": [
    "transformed_with_flatten = distributed.flatten()\n",
    "transformed_with_flatten"
   ]
  },
  {
   "cell_type": "code",
   "execution_count": 185,
   "metadata": {},
   "outputs": [
    {
     "data": {
      "text/plain": [
       "array([11.12150374, 11.06693094, 14.24452379, 14.65034103, 11.05648294,\n",
       "       11.9646638 , 12.15854463, 14.67177645, 10.98134465,  9.61614397,\n",
       "       13.02649746, 13.06658994, 12.57920622, 13.68216268, 13.50581323,\n",
       "       14.98339051, 14.3956498 , 13.48596283, 13.58078001, 11.93671564,\n",
       "       12.78575263, 14.97121752, 11.86581318, 14.66402367, 13.15445518,\n",
       "       13.34862128,  9.90769154, 12.82554537])"
      ]
     },
     "execution_count": 185,
     "metadata": {},
     "output_type": "execute_result"
    }
   ],
   "source": [
    "remove = transformed_with_flatten[(transformed_with_flatten < 15) & (transformed_with_flatten < 26)] \n",
    "remove"
   ]
  },
  {
   "cell_type": "code",
   "execution_count": 186,
   "metadata": {},
   "outputs": [
    {
     "data": {
      "text/plain": [
       "array([22.29782643, 21.7356794 , 22.31660967, 22.83990744, 20.70278672,\n",
       "       17.53918985, 21.34399856, 15.        , 21.68302961, 20.56380838,\n",
       "       25.14281715, 25.91060848, 24.10555537, 23.87909229, 15.        ,\n",
       "       15.20705418, 15.64468852, 22.73143036, 20.97329139, 24.37079497,\n",
       "       22.18875051, 26.        , 20.92385394, 26.        , 17.88209898,\n",
       "       23.81030421, 23.59056065, 23.59595194, 17.16302205, 18.69364278,\n",
       "       20.29046073, 21.25418756, 26.        , 26.        , 18.4571755 ,\n",
       "       26.        , 23.02795691, 19.53754138, 15.51069618, 23.80330261,\n",
       "       24.49611544, 26.        , 26.        , 15.32819152, 17.60874963,\n",
       "       21.71442203, 26.        , 26.        , 20.62823395, 21.3024443 ,\n",
       "       26.        , 21.09481488, 22.13201314, 26.        , 26.        ,\n",
       "       17.14843991, 22.72278105, 20.02110463, 19.04660776, 23.56459328,\n",
       "       19.48018878, 21.12511419, 18.3833717 , 18.41783433, 15.95583998,\n",
       "       18.47031262, 19.18461271, 22.31736336, 15.        , 25.6570105 ,\n",
       "       17.99536409, 26.        , 16.85698014, 22.55756505, 15.04037044,\n",
       "       24.29458716, 24.57483772, 24.2471413 , 21.67763439, 15.        ,\n",
       "       15.01182425, 20.3166178 , 24.30421594, 23.58202643, 15.        ,\n",
       "       22.9442989 , 22.7717675 , 16.03603708, 25.13085844, 26.        ,\n",
       "       17.24290119, 21.12118065, 21.73893294, 17.25250644, 19.07991187,\n",
       "       16.17064346, 20.94140375, 22.1004681 , 23.87838565, 26.        ,\n",
       "       15.        , 23.46393964, 15.        , 18.55071848, 25.74112104,\n",
       "       26.        , 20.367812  , 18.90080267, 18.96530952, 22.75283716,\n",
       "       22.66889989, 15.        , 18.39644652, 23.42061237, 15.        ,\n",
       "       23.19914312, 18.72869711, 16.36643956, 25.41130074, 24.81815238,\n",
       "       20.2526914 , 19.55617607, 26.        , 19.91427989, 26.        ,\n",
       "       23.64679614, 23.08074986, 26.        , 18.92574683, 15.        ,\n",
       "       20.60289361, 20.08848476, 15.        , 17.45675725, 26.        ,\n",
       "       22.36738691, 15.        , 20.27434627, 21.39003915, 19.05507443,\n",
       "       16.62470089, 15.20459733, 25.86502285, 17.4547667 , 24.97890774,\n",
       "       17.63662353, 22.5999679 , 26.        , 21.05766576, 22.35660403,\n",
       "       25.00843518, 24.91513079, 26.        , 19.83128479, 15.        ,\n",
       "       26.        , 19.33931459, 22.44084251, 23.40064918, 21.05597868,\n",
       "       20.24412605, 22.4743786 , 26.        , 17.7606871 , 24.15237556,\n",
       "       26.        , 20.1598554 , 16.72285384, 15.        , 26.        ,\n",
       "       26.        , 20.88772526, 21.21455991, 15.        , 15.        ,\n",
       "       24.4948488 , 21.2673681 , 18.7074763 , 21.52220619, 19.72576931,\n",
       "       17.21074254, 23.98729658, 25.20676934, 20.15777073, 15.        ,\n",
       "       18.5949749 , 17.39534372, 16.70853539, 22.95487497, 15.33448658,\n",
       "       18.34974142, 18.11901495, 15.98468094, 26.        , 20.96630412,\n",
       "       23.54573334, 26.        , 22.45079506, 24.89147809, 26.        ,\n",
       "       20.14293701, 22.13267314, 18.7011609 , 25.41915089, 22.94248445,\n",
       "       19.06891895, 19.72663367, 17.88134605, 20.24556375, 26.        ,\n",
       "       19.21920304, 21.23645695, 19.22374658, 18.60600717, 18.5717689 ,\n",
       "       16.46549925, 26.        , 15.        , 20.6489655 , 26.        ,\n",
       "       22.47965595, 15.65049837, 25.93882727, 22.83952626, 24.00439562,\n",
       "       21.91302759, 16.03795264, 21.51884101, 21.29038663, 25.25147336,\n",
       "       23.38997039, 24.58913468, 16.7653806 , 21.71389324, 21.86496051,\n",
       "       24.9676412 , 26.        , 26.        , 21.82465014, 19.90618333,\n",
       "       19.88662386, 15.        , 16.17322539, 21.98949779, 26.        ,\n",
       "       26.        , 15.        , 25.96445441, 15.        , 18.48955852,\n",
       "       17.93449649, 17.60470878, 17.14854938, 16.2326457 , 18.79406375,\n",
       "       22.0201508 , 15.        , 22.59237237, 15.        , 20.41953396,\n",
       "       18.57592743, 24.73489824, 23.1788064 , 20.40319216, 23.95543117,\n",
       "       24.13599092, 19.11688262, 24.23746099, 23.45398636, 18.80186763,\n",
       "       15.        , 18.16295882, 20.86993377, 15.        , 15.1943057 ,\n",
       "       19.37555756, 26.        , 15.        , 21.11584937, 22.10482326,\n",
       "       23.30540912, 15.        , 17.42992751, 26.        , 23.89418506,\n",
       "       23.95673899, 23.64725439, 19.95953593, 15.        , 25.94610361,\n",
       "       26.        , 17.79912281, 26.        , 16.26215263, 18.42592282,\n",
       "       16.17019113, 24.83829621, 24.57575399, 17.77287433, 21.33752409,\n",
       "       15.54417042, 20.83893009, 20.75765351, 24.04877224, 22.74831656,\n",
       "       21.19795955, 18.60960958, 20.89229888, 15.65523628, 25.51973278,\n",
       "       26.        , 18.96096694, 24.49580399, 23.57051437, 26.        ,\n",
       "       16.9260778 , 23.82131434, 26.        , 23.62424328, 23.41078559,\n",
       "       19.85830555, 26.        , 18.20212936, 26.        ])"
      ]
     },
     "execution_count": 186,
     "metadata": {},
     "output_type": "execute_result"
    }
   ],
   "source": [
    "clip = transformed_with_flatten.clip(15,26)\n",
    "clip"
   ]
  },
  {
   "cell_type": "code",
   "execution_count": 187,
   "metadata": {},
   "outputs": [
    {
     "data": {
      "text/plain": [
       "array([nan, nan, nan, nan, nan, nan, nan, 15., nan, nan, nan, nan, nan,\n",
       "       nan, 15., nan, nan, nan, nan, nan, nan, 26., nan, 26., nan, nan,\n",
       "       nan, nan, nan, nan, nan, nan, 26., 26., nan, 26., nan, nan, nan,\n",
       "       nan, nan, 26., 26., nan, nan, nan, 26., 26., nan, nan, 26., nan,\n",
       "       nan, 26., 26., nan, nan, nan, nan, nan, nan, nan, nan, nan, nan,\n",
       "       nan, nan, nan, 15., nan, nan, 26., nan, nan, nan, nan, nan, nan,\n",
       "       nan, 15., nan, nan, nan, nan, 15., nan, nan, nan, nan, 26., nan,\n",
       "       nan, nan, nan, nan, nan, nan, nan, nan, 26., 15., nan, 15., nan,\n",
       "       nan, 26., nan, nan, nan, nan, nan, 15., nan, nan, 15., nan, nan,\n",
       "       nan, nan, nan, nan, nan, 26., nan, 26., nan, nan, 26., nan, 15.,\n",
       "       nan, nan, 15., nan, 26., nan, 15., nan, nan, nan, nan, nan, nan,\n",
       "       nan, nan, nan, nan, 26., nan, nan, nan, nan, 26., nan, 15., 26.,\n",
       "       nan, nan, nan, nan, nan, nan, 26., nan, nan, 26., nan, nan, 15.,\n",
       "       26., 26., nan, nan, 15., 15., nan, nan, nan, nan, nan, nan, nan,\n",
       "       nan, nan, 15., nan, nan, nan, nan, nan, nan, nan, nan, 26., nan,\n",
       "       nan, 26., nan, nan, 26., nan, nan, nan, nan, nan, nan, nan, nan,\n",
       "       nan, 26., nan, nan, nan, nan, nan, nan, 26., 15., nan, 26., nan,\n",
       "       nan, nan, nan, nan, nan, nan, nan, nan, nan, nan, nan, nan, nan,\n",
       "       nan, nan, 26., 26., nan, nan, nan, 15., nan, nan, 26., 26., 15.,\n",
       "       nan, 15., nan, nan, nan, nan, nan, nan, nan, 15., nan, 15., nan,\n",
       "       nan, nan, nan, nan, nan, nan, nan, nan, nan, nan, 15., nan, nan,\n",
       "       15., nan, nan, 26., 15., nan, nan, nan, 15., nan, 26., nan, nan,\n",
       "       nan, nan, 15., nan, 26., nan, 26., nan, nan, nan, nan, nan, nan,\n",
       "       nan, nan, nan, nan, nan, nan, nan, nan, nan, nan, nan, 26., nan,\n",
       "       nan, nan, 26., nan, nan, 26., nan, nan, nan, 26., nan, 26.])"
      ]
     },
     "execution_count": 187,
     "metadata": {},
     "output_type": "execute_result"
    }
   ],
   "source": [
    "clip[(clip > 15) & (clip < 26)] = np.NaN\n",
    "clip"
   ]
  },
  {
   "cell_type": "code",
   "execution_count": 188,
   "metadata": {},
   "outputs": [
    {
     "data": {
      "text/plain": [
       "1616.0"
      ]
     },
     "execution_count": 188,
     "metadata": {},
     "output_type": "execute_result"
    }
   ],
   "source": [
    "np.nansum(clip)"
   ]
  },
  {
   "cell_type": "code",
   "execution_count": 197,
   "metadata": {},
   "outputs": [
    {
     "name": "stdout",
     "output_type": "stream",
     "text": [
      "Sum is 15\n"
     ]
    }
   ],
   "source": [
    "arr = [1, 2, 3, 4, 5];     \n",
    "sum = 0;     \n",
    "for i in range(0, len(arr)):\n",
    "    sum =  sum + arr[i];    \n",
    "print(\"Sum is \" + str(sum));  "
   ]
  },
  {
   "cell_type": "code",
   "execution_count": 198,
   "metadata": {},
   "outputs": [
    {
     "ename": "TypeError",
     "evalue": "'int' object is not callable",
     "output_type": "error",
     "traceback": [
      "\u001b[1;31m---------------------------------------------------------------------------\u001b[0m",
      "\u001b[1;31mTypeError\u001b[0m                                 Traceback (most recent call last)",
      "Input \u001b[1;32mIn [198]\u001b[0m, in \u001b[0;36m<cell line: 2>\u001b[1;34m()\u001b[0m\n\u001b[0;32m      1\u001b[0m arr \u001b[38;5;241m=\u001b[39m [\u001b[38;5;241m1\u001b[39m, \u001b[38;5;241m2\u001b[39m, \u001b[38;5;241m3\u001b[39m, \u001b[38;5;241m4\u001b[39m, \u001b[38;5;241m5\u001b[39m];\n\u001b[1;32m----> 2\u001b[0m sum_array \u001b[38;5;241m=\u001b[39m \u001b[38;5;28;43msum\u001b[39;49m\u001b[43m(\u001b[49m\u001b[43marr\u001b[49m\u001b[43m)\u001b[49m\n\u001b[0;32m      4\u001b[0m \u001b[38;5;28mprint\u001b[39m(sum_array)\n",
      "\u001b[1;31mTypeError\u001b[0m: 'int' object is not callable"
     ]
    }
   ],
   "source": [
    "arr = [1, 2, 3, 4, 5];\n",
    "total = np.sum(arr)\n",
    "\n",
    "print(total)"
   ]
  },
  {
   "cell_type": "code",
   "execution_count": null,
   "metadata": {},
   "outputs": [],
   "source": []
  }
 ],
 "metadata": {
  "kernelspec": {
   "display_name": "Python 3 (ipykernel)",
   "language": "python",
   "name": "python3"
  },
  "language_info": {
   "codemirror_mode": {
    "name": "ipython",
    "version": 3
   },
   "file_extension": ".py",
   "mimetype": "text/x-python",
   "name": "python",
   "nbconvert_exporter": "python",
   "pygments_lexer": "ipython3",
   "version": "3.8.8"
  }
 },
 "nbformat": 4,
 "nbformat_minor": 1
}
