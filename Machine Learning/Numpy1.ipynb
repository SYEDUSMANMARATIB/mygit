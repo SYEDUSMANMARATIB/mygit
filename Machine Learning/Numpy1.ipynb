{
 "cells": [
  {
   "cell_type": "markdown",
   "id": "afce23d5",
   "metadata": {},
   "source": [
    "## Task 01"
   ]
  },
  {
   "cell_type": "code",
   "execution_count": 2,
   "id": "a29f9a8f",
   "metadata": {},
   "outputs": [
    {
     "name": "stdout",
     "output_type": "stream",
     "text": [
      "Shape:  (10,) \n",
      "Integers:  [6 6 3 9 2 1 4 5 2 3]\n",
      "Shape:  (10,) \n",
      "Floats:  [0.09076685 0.32818482 0.97393387 0.71091689 0.37100698 0.15108787\n",
      " 0.54927216 0.17484365 0.33437876 0.75173197]\n"
     ]
    }
   ],
   "source": [
    "import numpy as np\n",
    "#for the integers\n",
    "integers=np.random.randint(1,10,10)\n",
    "floats=np.random.random(10)\n",
    "print(\"Shape: \",integers.shape, \"\\nIntegers: \",integers)\n",
    "\n",
    "#for the floats\n",
    "floats=np.random.random(10)\n",
    "print(\"Shape: \",floats.shape, \"\\nFloats: \",floats)"
   ]
  },
  {
   "cell_type": "code",
   "execution_count": 214,
   "id": "b76e4cb2",
   "metadata": {},
   "outputs": [
    {
     "name": "stdout",
     "output_type": "stream",
     "text": [
      "Shape:  (3, 3) \n",
      "Chars:  [[b'a' b'a' b'a']\n",
      " [b'a' b'a' b'a']\n",
      " [b'a' b'a' b'a']]\n"
     ]
    }
   ],
   "source": [
    "chars = np.chararray((3, 3))\n",
    "chars[:]='abc'\n",
    "print(\"Shape: \",chars.shape, \"\\nChars: \", chars)"
   ]
  },
  {
   "cell_type": "markdown",
   "id": "f5458c8f",
   "metadata": {},
   "source": [
    "## Task 02"
   ]
  },
  {
   "cell_type": "code",
   "execution_count": 4,
   "id": "2a28e8a3",
   "metadata": {},
   "outputs": [
    {
     "data": {
      "text/plain": [
       "array([0, 0, 0, 0, 0, 0, 0, 0, 0, 0])"
      ]
     },
     "execution_count": 4,
     "metadata": {},
     "output_type": "execute_result"
    }
   ],
   "source": [
    "# array of zeros\n",
    "arr=np.zeros(10, dtype=int)\n",
    "arr"
   ]
  },
  {
   "cell_type": "code",
   "execution_count": 5,
   "id": "2e4be26e",
   "metadata": {},
   "outputs": [
    {
     "data": {
      "text/plain": [
       "array([0.09076685, 0.32818482, 0.97393387, 0.71091689, 0.37100698,\n",
       "       0.15108787, 0.54927216, 0.17484365, 0.33437876, 0.75173197])"
      ]
     },
     "execution_count": 5,
     "metadata": {},
     "output_type": "execute_result"
    }
   ],
   "source": [
    "# np.empty\n",
    "ap=np.empty(10)\n",
    "ap"
   ]
  },
  {
   "cell_type": "code",
   "execution_count": 6,
   "id": "31631475",
   "metadata": {},
   "outputs": [
    {
     "data": {
      "text/plain": [
       "array([[1., 0., 0.],\n",
       "       [0., 1., 0.],\n",
       "       [0., 0., 1.]])"
      ]
     },
     "execution_count": 6,
     "metadata": {},
     "output_type": "execute_result"
    }
   ],
   "source": [
    "# np.identity\n",
    "np.identity(3)"
   ]
  },
  {
   "cell_type": "code",
   "execution_count": 218,
   "id": "4ab9bb2e",
   "metadata": {},
   "outputs": [
    {
     "name": "stdout",
     "output_type": "stream",
     "text": [
      "[0 0]\n"
     ]
    }
   ],
   "source": [
    "# np.fill\n",
    "array=np.array([1,2])\n",
    "array.fill(0)\n",
    "print(array)"
   ]
  },
  {
   "cell_type": "code",
   "execution_count": 219,
   "id": "924467a1",
   "metadata": {},
   "outputs": [
    {
     "data": {
      "text/plain": [
       "array([[10, 10, 10],\n",
       "       [10, 10, 10],\n",
       "       [10, 10, 10]])"
      ]
     },
     "execution_count": 219,
     "metadata": {},
     "output_type": "execute_result"
    }
   ],
   "source": [
    "# np.full\n",
    "np.full((3,3), 10)"
   ]
  },
  {
   "cell_type": "markdown",
   "id": "2e94d7cd",
   "metadata": {},
   "source": [
    "## Task 03"
   ]
  },
  {
   "cell_type": "markdown",
   "id": "71940ebd",
   "metadata": {},
   "source": [
    "#### when numpy array is declared as object, we can create an array with different data-types elements"
   ]
  },
  {
   "cell_type": "markdown",
   "id": "93edca3b",
   "metadata": {},
   "source": [
    "## Task 04"
   ]
  },
  {
   "cell_type": "code",
   "execution_count": 220,
   "id": "a6fbd28a",
   "metadata": {},
   "outputs": [
    {
     "data": {
      "text/plain": [
       "(50,)"
      ]
     },
     "execution_count": 220,
     "metadata": {},
     "output_type": "execute_result"
    }
   ],
   "source": [
    "# np.linspace\n",
    "arr=np.linspace(5,15)\n",
    "arr.shape"
   ]
  },
  {
   "cell_type": "markdown",
   "id": "014c6257",
   "metadata": {},
   "source": [
    "# Task 05"
   ]
  },
  {
   "cell_type": "code",
   "execution_count": 239,
   "id": "4058ab02",
   "metadata": {},
   "outputs": [
    {
     "data": {
      "text/plain": [
       "(99,)"
      ]
     },
     "execution_count": 239,
     "metadata": {},
     "output_type": "execute_result"
    }
   ],
   "source": [
    "# np.arange\n",
    "arr=np.arange(1,100)\n",
    "arr.shape"
   ]
  },
  {
   "cell_type": "markdown",
   "id": "fa5cd161",
   "metadata": {},
   "source": [
    "# Task 06"
   ]
  },
  {
   "cell_type": "code",
   "execution_count": 235,
   "id": "6de29453",
   "metadata": {},
   "outputs": [],
   "source": [
    "# # np.reshape\n",
    "# arr.reshape(100, 15)\n",
    "# # No its not possible"
   ]
  },
  {
   "cell_type": "markdown",
   "id": "56fea8af",
   "metadata": {},
   "source": [
    "# Task 07"
   ]
  },
  {
   "cell_type": "code",
   "execution_count": 236,
   "id": "93a40e66",
   "metadata": {},
   "outputs": [],
   "source": [
    "# arr=np.reshape(arr, (100, 10))"
   ]
  },
  {
   "cell_type": "code",
   "execution_count": 7,
   "id": "1bd0cdb2",
   "metadata": {},
   "outputs": [
    {
     "name": "stdout",
     "output_type": "stream",
     "text": [
      "Along X-axis:  [12 15 18]\n",
      "Along Y-axis:  [ 6 15 24]\n"
     ]
    }
   ],
   "source": [
    "arr=[[1, 2, 3], [4, 5, 6], [ 7, 8, 9]]\n",
    "print(\"Along X-axis: \", np.sum(arr, axis=0))\n",
    "print(\"Along Y-axis: \", np.sum(arr, axis=1))"
   ]
  },
  {
   "cell_type": "code",
   "execution_count": 240,
   "id": "73c3d126",
   "metadata": {},
   "outputs": [
    {
     "name": "stdout",
     "output_type": "stream",
     "text": [
      "[ 1  2  3  4  5  6  7  8  9 10 11 12 13 14 15 16 17 18 19 20 21 22 23 24\n",
      " 25 26 27 28 29 30 31 32 33 34 35 36 37 38 39 40 41 42 43 44 45 46 47 48\n",
      " 49 50 51 52 53 54 55 56 57 58 59 60 61 62 63 64 65 66 67 68 69 70 71 72\n",
      " 73 74 75 76 77 78 79 80 81 82 83 84 85 86 87 88 89 90 91 92 93 94 95 96\n",
      " 97 98 99] (99,)\n"
     ]
    }
   ],
   "source": [
    "arr.flatten()\n",
    "\n",
    "print(arr, arr.shape)"
   ]
  },
  {
   "cell_type": "code",
   "execution_count": 241,
   "id": "713903fc",
   "metadata": {},
   "outputs": [
    {
     "name": "stdout",
     "output_type": "stream",
     "text": [
      "[ 1  2  3  4  5  6  7  8  9 10 11 12 13 14 15 16 17 18 19 20 21 22 23 24\n",
      " 25 26 27 28 29 30 31 32 33 34 35 36 37 38 39 40 41 42 43 44 45 46 47 48\n",
      " 49 50 51 52 53 54 55 56 57 58 59 60 61 62 63 64 65 66 67 68 69 70 71 72\n",
      " 73 74 75 76 77 78 79 80 81 82 83 84 85 86 87 88 89 90 91 92 93 94 95 96\n",
      " 97 98 99] (99,)\n"
     ]
    }
   ],
   "source": [
    "# np.ravel\n",
    "\n",
    "arr=arr.ravel()\n",
    "\n",
    "print(arr, arr.shape)"
   ]
  },
  {
   "cell_type": "code",
   "execution_count": 242,
   "id": "f8cf401c",
   "metadata": {},
   "outputs": [
    {
     "name": "stdout",
     "output_type": "stream",
     "text": [
      "396\n"
     ]
    }
   ],
   "source": [
    "# np.nbytes\n",
    "\n",
    "print(arr.nbytes)"
   ]
  },
  {
   "cell_type": "code",
   "execution_count": 228,
   "id": "357f7ada",
   "metadata": {},
   "outputs": [
    {
     "data": {
      "text/plain": [
       "9"
      ]
     },
     "execution_count": 228,
     "metadata": {},
     "output_type": "execute_result"
    }
   ],
   "source": [
    "# np.max\n",
    "\n",
    "np.max(arr)"
   ]
  },
  {
   "cell_type": "code",
   "execution_count": 229,
   "id": "774c1b39",
   "metadata": {},
   "outputs": [
    {
     "data": {
      "text/plain": [
       "1"
      ]
     },
     "execution_count": 229,
     "metadata": {},
     "output_type": "execute_result"
    }
   ],
   "source": [
    "# np.min\n",
    "\n",
    "np.min(arr)"
   ]
  },
  {
   "cell_type": "code",
   "execution_count": 230,
   "id": "4e4db717",
   "metadata": {},
   "outputs": [
    {
     "data": {
      "text/plain": [
       "array([[1, 2, 3],\n",
       "       [4, 5, 6],\n",
       "       [7, 8, 9]])"
      ]
     },
     "execution_count": 230,
     "metadata": {},
     "output_type": "execute_result"
    }
   ],
   "source": [
    "# np.sort\n",
    "\n",
    "np.sort(arr)"
   ]
  },
  {
   "cell_type": "code",
   "execution_count": 195,
   "id": "4d3edb1b",
   "metadata": {},
   "outputs": [
    {
     "data": {
      "text/plain": [
       "array([[ 1,  4,  9],\n",
       "       [16, 25, 36],\n",
       "       [49, 64, 81]])"
      ]
     },
     "execution_count": 195,
     "metadata": {},
     "output_type": "execute_result"
    }
   ],
   "source": [
    "# np.multiply\n",
    "\n",
    "np.multiply(arr, arr)"
   ]
  },
  {
   "cell_type": "code",
   "execution_count": 196,
   "id": "51e64cb0",
   "metadata": {},
   "outputs": [
    {
     "data": {
      "text/plain": [
       "array([[1.        , 1.41421356, 1.73205081],\n",
       "       [2.        , 2.23606798, 2.44948974],\n",
       "       [2.64575131, 2.82842712, 3.        ]])"
      ]
     },
     "execution_count": 196,
     "metadata": {},
     "output_type": "execute_result"
    }
   ],
   "source": [
    "# np.sqrt\n",
    "\n",
    "np.sqrt(arr)"
   ]
  },
  {
   "cell_type": "code",
   "execution_count": 197,
   "id": "4c611296",
   "metadata": {},
   "outputs": [
    {
     "data": {
      "text/plain": [
       "16.881943016134134"
      ]
     },
     "execution_count": 197,
     "metadata": {},
     "output_type": "execute_result"
    }
   ],
   "source": [
    "# np.linalg.norm\n",
    "\n",
    "np.linalg.norm(arr)"
   ]
  },
  {
   "cell_type": "code",
   "execution_count": 198,
   "id": "dfe7f79d",
   "metadata": {},
   "outputs": [
    {
     "data": {
      "text/plain": [
       "5.0"
      ]
     },
     "execution_count": 198,
     "metadata": {},
     "output_type": "execute_result"
    }
   ],
   "source": [
    "# np.mean\n",
    "\n",
    "np.mean(arr)"
   ]
  },
  {
   "cell_type": "code",
   "execution_count": 199,
   "id": "9b7696f5",
   "metadata": {},
   "outputs": [
    {
     "data": {
      "text/plain": [
       "2.581988897471611"
      ]
     },
     "execution_count": 199,
     "metadata": {},
     "output_type": "execute_result"
    }
   ],
   "source": [
    "# np.std\n",
    "\n",
    "np.std(arr)"
   ]
  },
  {
   "cell_type": "code",
   "execution_count": 200,
   "id": "2a94258c",
   "metadata": {},
   "outputs": [
    {
     "data": {
      "text/plain": [
       "array([4, 6, 6, 2, 0, 0, 8, 4, 1, 9])"
      ]
     },
     "execution_count": 200,
     "metadata": {},
     "output_type": "execute_result"
    }
   ],
   "source": [
    "# integers\n",
    "\n",
    "arr=np.random.randint(0,10,10)\n",
    "arr"
   ]
  },
  {
   "cell_type": "code",
   "execution_count": 201,
   "id": "5a0108cd",
   "metadata": {},
   "outputs": [
    {
     "data": {
      "text/plain": [
       "True"
      ]
     },
     "execution_count": 201,
     "metadata": {},
     "output_type": "execute_result"
    }
   ],
   "source": [
    "# checking if theres no zero\n",
    "\n",
    "np.any((arr))"
   ]
  },
  {
   "cell_type": "code",
   "execution_count": 202,
   "id": "0d4b6656",
   "metadata": {},
   "outputs": [
    {
     "data": {
      "text/plain": [
       "False"
      ]
     },
     "execution_count": 202,
     "metadata": {},
     "output_type": "execute_result"
    }
   ],
   "source": [
    "# checking if theres zero\n",
    "\n",
    "np.all(arr)"
   ]
  },
  {
   "cell_type": "code",
   "execution_count": 203,
   "id": "ca3c990b",
   "metadata": {},
   "outputs": [
    {
     "name": "stdout",
     "output_type": "stream",
     "text": [
      "Degree values : \n",
      " [  0.  90. 180. 270. 360. 450. 540. 630. 720. 810.]\n",
      "\n",
      "Radian values : \n",
      " [ 0.          1.57079633  3.14159265  4.71238898  6.28318531  7.85398163\n",
      "  9.42477796 10.99557429 12.56637061 14.13716694]\n"
     ]
    }
   ],
   "source": [
    "# some angles\n",
    "in_array = np.arange(10.) * 90\n",
    "print (\"Degree values : \\n\", in_array)\n",
    "\n",
    "\n",
    "# angles to radians\n",
    "radian_Values = np.radians(in_array)\n",
    "print (\"\\nRadian values : \\n\", radian_Values)"
   ]
  },
  {
   "cell_type": "code",
   "execution_count": 204,
   "id": "a8f7e49d",
   "metadata": {},
   "outputs": [
    {
     "name": "stdout",
     "output_type": "stream",
     "text": [
      "Angles:  [  0.  90. 180. 270. 360. 450. 540. 630. 720. 810.] \n",
      "Radians:  [ 0.          1.57079633  3.14159265  4.71238898  6.28318531  7.85398163\n",
      "  9.42477796 10.99557429 12.56637061 14.13716694]\n",
      "\n",
      "Angles:  [  0.  90. 180. 270. 360. 450. 540. 630. 720. 810.]\n"
     ]
    }
   ],
   "source": [
    "arr=np.arange(10.) *90\n",
    "arr2=np.radians(arr)\n",
    "print(\"Angles: \",arr, \"\\nRadians: \", arr2)\n",
    "\n",
    "# radians to degrees\n",
    "\n",
    "print(\"\\nAngles: \",np.degrees(arr2))"
   ]
  },
  {
   "cell_type": "code",
   "execution_count": 205,
   "id": "1cd1fe18",
   "metadata": {},
   "outputs": [
    {
     "name": "stdout",
     "output_type": "stream",
     "text": [
      "[0.09867556 0.1121841  0.09364668 0.33659482 0.77946018 0.47490001\n",
      " 0.65640341 0.60678995 0.73557598 0.65492766] \n",
      " [0 0 0 0 0 0 0 0 0 0]\n"
     ]
    }
   ],
   "source": [
    "# savetxt\n",
    "arr= np.array([1, 2, 3, 4])\n",
    "np.savetxt('file.txt', a, fmt='%d')\n",
    "\n",
    "# loadttxt\n",
    "\n",
    "b = np.loadtxt('file.txt', dtype=int)\n",
    "print(a, \"\\n\", b)"
   ]
  },
  {
   "cell_type": "markdown",
   "id": "e59f0541",
   "metadata": {},
   "source": [
    "## np.random.normal"
   ]
  },
  {
   "cell_type": "code",
   "execution_count": 206,
   "id": "7bd833a7",
   "metadata": {},
   "outputs": [
    {
     "data": {
      "text/plain": [
       "array([[[[-0.04443771,  0.00191855, -0.02060454],\n",
       "         [ 0.0180607 ,  0.08199442,  0.02061188],\n",
       "         [ 0.00539026, -0.08195938, -0.02175964],\n",
       "         [-0.11905382, -0.15957909,  0.10128804],\n",
       "         [ 0.09167202,  0.09517687, -0.14124052],\n",
       "         [-0.02475733,  0.01927433,  0.17647346],\n",
       "         [-0.04509637,  0.05472871, -0.14015611],\n",
       "         [-0.06935199, -0.12274073, -0.09671359],\n",
       "         [ 0.1026377 , -0.0013289 , -0.09631576],\n",
       "         [-0.06043843,  0.06739933,  0.02649126],\n",
       "         [-0.00248889, -0.14394938, -0.03597004],\n",
       "         [ 0.10279707,  0.02833923,  0.07302277]],\n",
       "\n",
       "        [[ 0.0979243 , -0.16360364, -0.07102229],\n",
       "         [-0.01407601,  0.00341741,  0.12479056],\n",
       "         [ 0.03189154,  0.0779872 ,  0.01236481],\n",
       "         [-0.10018465,  0.25658586,  0.20399316],\n",
       "         [-0.06999988, -0.06588168, -0.01691876],\n",
       "         [ 0.13164429, -0.02389274,  0.01347818],\n",
       "         [ 0.06175893,  0.0037295 , -0.11438206],\n",
       "         [-0.11834681,  0.23136262, -0.05391249],\n",
       "         [ 0.14065039,  0.17927361, -0.10647423],\n",
       "         [-0.04878954, -0.14618293, -0.15848008],\n",
       "         [ 0.05059228,  0.04007204, -0.01866698],\n",
       "         [ 0.04916019, -0.08834934,  0.00897853]],\n",
       "\n",
       "        [[ 0.06552408,  0.04379424,  0.02574533],\n",
       "         [-0.01440196,  0.00822196, -0.04986494],\n",
       "         [-0.10816632,  0.00046436, -0.00961809],\n",
       "         [ 0.1070901 , -0.10157536,  0.10555024],\n",
       "         [-0.06961022, -0.45804303, -0.03289733],\n",
       "         [ 0.04019411,  0.12154516,  0.27926279],\n",
       "         [ 0.05717474, -0.08365162, -0.01142802],\n",
       "         [ 0.10672717, -0.26711029, -0.16438317],\n",
       "         [-0.11983949,  0.05965184,  0.03586626],\n",
       "         [ 0.00816858,  0.19319357, -0.06011187],\n",
       "         [-0.12140422,  0.09276329,  0.16038424],\n",
       "         [ 0.03958851, -0.02604026,  0.38437965]]],\n",
       "\n",
       "\n",
       "       [[[ 0.02264512,  0.18862076,  0.19028071],\n",
       "         [ 0.02128292,  0.0914604 , -0.01201417],\n",
       "         [-0.14353486, -0.07616487, -0.19725865],\n",
       "         [ 0.04175993,  0.02705663,  0.07045026],\n",
       "         [-0.01532624,  0.00973147, -0.01860139],\n",
       "         [-0.03927674,  0.05861532, -0.16680432],\n",
       "         [ 0.16461708,  0.06579308,  0.09309165],\n",
       "         [ 0.22416567, -0.03954216,  0.02786146],\n",
       "         [ 0.02281093, -0.04354896, -0.01953248],\n",
       "         [ 0.03720573, -0.01851804,  0.0242902 ],\n",
       "         [ 0.01056065,  0.08951563,  0.04759455],\n",
       "         [ 0.0422485 ,  0.04874865,  0.00821907]],\n",
       "\n",
       "        [[ 0.03141717, -0.07764185,  0.06807767],\n",
       "         [-0.10988852, -0.11591698, -0.0582146 ],\n",
       "         [ 0.07059461, -0.04649097,  0.00496463],\n",
       "         [-0.02257919, -0.06845243, -0.00791907],\n",
       "         [ 0.03923743, -0.02308471, -0.02518927],\n",
       "         [ 0.05306604,  0.16472376,  0.10147505],\n",
       "         [-0.05789066, -0.11929833,  0.05581674],\n",
       "         [ 0.11900026, -0.12458966, -0.12760012],\n",
       "         [ 0.05209605,  0.11133313,  0.09614487],\n",
       "         [-0.05252176, -0.24870667,  0.06328069],\n",
       "         [ 0.04085946,  0.10126365,  0.0313106 ],\n",
       "         [-0.06586787,  0.02293875,  0.0603637 ]],\n",
       "\n",
       "        [[ 0.02313126,  0.13780093, -0.10508404],\n",
       "         [ 0.04031472, -0.04741056, -0.11480908],\n",
       "         [-0.28227428, -0.25713861, -0.00978474],\n",
       "         [ 0.1064648 ,  0.23841599,  0.13807057],\n",
       "         [-0.05107281, -0.14972396,  0.00859524],\n",
       "         [-0.04845442,  0.1013122 , -0.07812251],\n",
       "         [-0.00619303, -0.04257435,  0.03332053],\n",
       "         [-0.01354488,  0.05949331,  0.10829766],\n",
       "         [-0.10744987, -0.02092196,  0.12958015],\n",
       "         [-0.05073282,  0.08460729,  0.04345989],\n",
       "         [ 0.11418848, -0.25554745,  0.16391385],\n",
       "         [-0.08662504,  0.09052914, -0.02958508]]],\n",
       "\n",
       "\n",
       "       [[[-0.06577722, -0.0885079 , -0.02958149],\n",
       "         [-0.01844284,  0.0401608 ,  0.04462246],\n",
       "         [ 0.06925883,  0.06005688, -0.05206969],\n",
       "         [-0.01261615,  0.09709781,  0.02451136],\n",
       "         [-0.14932397,  0.15573984, -0.052459  ],\n",
       "         [-0.11074481,  0.02166436,  0.01897346],\n",
       "         [ 0.05029638,  0.00451084,  0.14219936],\n",
       "         [-0.03774137, -0.01859299,  0.05581036],\n",
       "         [-0.06620649, -0.02426014,  0.01538782],\n",
       "         [-0.07503238,  0.1317766 ,  0.12453966],\n",
       "         [ 0.04432485,  0.01930189,  0.11461395],\n",
       "         [-0.03296247,  0.06606183,  0.13207406]],\n",
       "\n",
       "        [[ 0.01242565,  0.02198716,  0.13855404],\n",
       "         [-0.02252595,  0.06724947, -0.01946043],\n",
       "         [ 0.02245489,  0.11574348, -0.02839727],\n",
       "         [ 0.05276689,  0.00653624, -0.02508995],\n",
       "         [ 0.15558654,  0.08463193,  0.04053197],\n",
       "         [ 0.0530462 , -0.02894544,  0.09939132],\n",
       "         [ 0.02653795,  0.07401027,  0.09046759],\n",
       "         [ 0.08279495, -0.017538  , -0.08838984],\n",
       "         [ 0.04085564, -0.1136048 ,  0.04978728],\n",
       "         [ 0.07074165, -0.00702188, -0.01972968],\n",
       "         [ 0.1416702 ,  0.08955608,  0.018853  ],\n",
       "         [-0.15982113, -0.07456768,  0.08193251]],\n",
       "\n",
       "        [[ 0.06809943, -0.05648725,  0.11339668],\n",
       "         [-0.1707268 , -0.06534896,  0.00359596],\n",
       "         [-0.07013128,  0.06714104, -0.07560203],\n",
       "         [-0.10458093,  0.03102095, -0.06677238],\n",
       "         [ 0.00510604, -0.06835842,  0.21843386],\n",
       "         [-0.04756816,  0.17531949,  0.02449266],\n",
       "         [-0.09221333, -0.2028998 ,  0.05706106],\n",
       "         [ 0.02754537,  0.04282722,  0.0650925 ],\n",
       "         [ 0.11343402,  0.06761756, -0.00229365],\n",
       "         [-0.08210176,  0.11479273, -0.0752746 ],\n",
       "         [ 0.03580443, -0.01990763, -0.06495629],\n",
       "         [ 0.12953912,  0.06412923,  0.07256968]]]])"
      ]
     },
     "execution_count": 206,
     "metadata": {},
     "output_type": "execute_result"
    }
   ],
   "source": [
    "mu, sigma=0, 0.1\n",
    "arr=np.random.normal(mu, sigma, (3,3,12,3))"
   ]
  },
  {
   "cell_type": "code",
   "execution_count": 243,
   "id": "db635797",
   "metadata": {},
   "outputs": [
    {
     "data": {
      "text/plain": [
       "50.0"
      ]
     },
     "execution_count": 243,
     "metadata": {},
     "output_type": "execute_result"
    }
   ],
   "source": [
    "np.mean(arr)"
   ]
  },
  {
   "cell_type": "code",
   "execution_count": 244,
   "id": "02823781",
   "metadata": {},
   "outputs": [
    {
     "data": {
      "text/plain": [
       "28.577380332470412"
      ]
     },
     "execution_count": 244,
     "metadata": {},
     "output_type": "execute_result"
    }
   ],
   "source": [
    "np.std(arr)"
   ]
  },
  {
   "cell_type": "code",
   "execution_count": 245,
   "id": "1b4a2b58",
   "metadata": {},
   "outputs": [
    {
     "data": {
      "text/plain": [
       "816.6666666666666"
      ]
     },
     "execution_count": 245,
     "metadata": {},
     "output_type": "execute_result"
    }
   ],
   "source": [
    "np.var(arr)"
   ]
  },
  {
   "cell_type": "code",
   "execution_count": 246,
   "id": "f78c940a",
   "metadata": {},
   "outputs": [
    {
     "data": {
      "text/plain": [
       "99"
      ]
     },
     "execution_count": 246,
     "metadata": {},
     "output_type": "execute_result"
    }
   ],
   "source": [
    "np.max(arr)"
   ]
  },
  {
   "cell_type": "code",
   "execution_count": 247,
   "id": "1b4351bc",
   "metadata": {},
   "outputs": [
    {
     "data": {
      "text/plain": [
       "1"
      ]
     },
     "execution_count": 247,
     "metadata": {},
     "output_type": "execute_result"
    }
   ],
   "source": [
    "np.min(arr)"
   ]
  },
  {
   "cell_type": "code",
   "execution_count": null,
   "id": "e3605aed",
   "metadata": {},
   "outputs": [],
   "source": []
  }
 ],
 "metadata": {
  "kernelspec": {
   "display_name": "Python 3 (ipykernel)",
   "language": "python",
   "name": "python3"
  },
  "language_info": {
   "codemirror_mode": {
    "name": "ipython",
    "version": 3
   },
   "file_extension": ".py",
   "mimetype": "text/x-python",
   "name": "python",
   "nbconvert_exporter": "python",
   "pygments_lexer": "ipython3",
   "version": "3.8.8"
  }
 },
 "nbformat": 4,
 "nbformat_minor": 5
}
