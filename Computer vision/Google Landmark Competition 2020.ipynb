{
 "cells": [
  {
   "cell_type": "code",
   "execution_count": 1,
   "id": "16cb07a6",
   "metadata": {
    "_cell_guid": "b1076dfc-b9ad-4769-8c92-a6c4dae69d19",
    "_uuid": "8f2839f25d086af736a60e9eeb907d3b93b6e0e5",
    "execution": {
     "iopub.execute_input": "2023-12-10T05:31:06.929663Z",
     "iopub.status.busy": "2023-12-10T05:31:06.929252Z",
     "iopub.status.idle": "2023-12-10T05:31:20.084922Z",
     "shell.execute_reply": "2023-12-10T05:31:20.083787Z"
    },
    "papermill": {
     "duration": 13.167158,
     "end_time": "2023-12-10T05:31:20.087521",
     "exception": false,
     "start_time": "2023-12-10T05:31:06.920363",
     "status": "completed"
    },
    "tags": []
   },
   "outputs": [
    {
     "name": "stderr",
     "output_type": "stream",
     "text": [
      "/opt/conda/lib/python3.10/site-packages/scipy/__init__.py:146: UserWarning: A NumPy version >=1.16.5 and <1.23.0 is required for this version of SciPy (detected version 1.24.3\n",
      "  warnings.warn(f\"A NumPy version >={np_minversion} and <{np_maxversion}\"\n"
     ]
    }
   ],
   "source": [
    "#Load important libraries\n",
    "import numpy as np\n",
    "import pandas as pd\n",
    "from PIL import Image\n",
    "import matplotlib.pyplot as plt\n",
    "from keras.models import Sequential\n",
    "from keras.preprocessing.image import ImageDataGenerator\n",
    "import keras.layers as L\n",
    "from keras import regularizers, optimizers\n",
    "from collections import Counter\n",
    "import keras\n",
    "from keras import Model\n",
    "import tensorflow as tf\n",
    "from tensorflow.keras.applications.xception import Xception\n",
    "from keras.callbacks import EarlyStopping, ModelCheckpoint\n",
    "import warnings\n",
    "warnings.filterwarnings(\"ignore\")\n",
    "from keras.models import load_model"
   ]
  },
  {
   "cell_type": "code",
   "execution_count": 2,
   "id": "5f668036",
   "metadata": {
    "execution": {
     "iopub.execute_input": "2023-12-10T05:31:20.104507Z",
     "iopub.status.busy": "2023-12-10T05:31:20.103897Z",
     "iopub.status.idle": "2023-12-10T05:31:21.468065Z",
     "shell.execute_reply": "2023-12-10T05:31:21.467136Z"
    },
    "papermill": {
     "duration": 1.374838,
     "end_time": "2023-12-10T05:31:21.470301",
     "exception": false,
     "start_time": "2023-12-10T05:31:20.095463",
     "status": "completed"
    },
    "tags": []
   },
   "outputs": [
    {
     "data": {
      "text/html": [
       "<div>\n",
       "<style scoped>\n",
       "    .dataframe tbody tr th:only-of-type {\n",
       "        vertical-align: middle;\n",
       "    }\n",
       "\n",
       "    .dataframe tbody tr th {\n",
       "        vertical-align: top;\n",
       "    }\n",
       "\n",
       "    .dataframe thead th {\n",
       "        text-align: right;\n",
       "    }\n",
       "</style>\n",
       "<table border=\"1\" class=\"dataframe\">\n",
       "  <thead>\n",
       "    <tr style=\"text-align: right;\">\n",
       "      <th></th>\n",
       "      <th>id</th>\n",
       "      <th>landmark_id</th>\n",
       "    </tr>\n",
       "  </thead>\n",
       "  <tbody>\n",
       "    <tr>\n",
       "      <th>0</th>\n",
       "      <td>17660ef415d37059</td>\n",
       "      <td>1</td>\n",
       "    </tr>\n",
       "    <tr>\n",
       "      <th>1</th>\n",
       "      <td>92b6290d571448f6</td>\n",
       "      <td>1</td>\n",
       "    </tr>\n",
       "    <tr>\n",
       "      <th>2</th>\n",
       "      <td>cd41bf948edc0340</td>\n",
       "      <td>1</td>\n",
       "    </tr>\n",
       "    <tr>\n",
       "      <th>3</th>\n",
       "      <td>fb09f1e98c6d2f70</td>\n",
       "      <td>1</td>\n",
       "    </tr>\n",
       "    <tr>\n",
       "      <th>4</th>\n",
       "      <td>25c9dfc7ea69838d</td>\n",
       "      <td>7</td>\n",
       "    </tr>\n",
       "  </tbody>\n",
       "</table>\n",
       "</div>"
      ],
      "text/plain": [
       "                 id  landmark_id\n",
       "0  17660ef415d37059            1\n",
       "1  92b6290d571448f6            1\n",
       "2  cd41bf948edc0340            1\n",
       "3  fb09f1e98c6d2f70            1\n",
       "4  25c9dfc7ea69838d            7"
      ]
     },
     "execution_count": 2,
     "metadata": {},
     "output_type": "execute_result"
    }
   ],
   "source": [
    "# Load the training data \n",
    "label = pd.read_csv(\"../input/landmark-recognition-2020/train.csv\")\n",
    "label.head()\n"
   ]
  },
  {
   "cell_type": "code",
   "execution_count": 3,
   "id": "30d8d354",
   "metadata": {
    "execution": {
     "iopub.execute_input": "2023-12-10T05:31:21.488639Z",
     "iopub.status.busy": "2023-12-10T05:31:21.488293Z",
     "iopub.status.idle": "2023-12-10T05:31:21.516597Z",
     "shell.execute_reply": "2023-12-10T05:31:21.515443Z"
    },
    "papermill": {
     "duration": 0.040268,
     "end_time": "2023-12-10T05:31:21.518921",
     "exception": false,
     "start_time": "2023-12-10T05:31:21.478653",
     "status": "completed"
    },
    "tags": []
   },
   "outputs": [
    {
     "name": "stdout",
     "output_type": "stream",
     "text": [
      "The total number of pictures in the dataset: 1580470\n",
      "The total number of landmarks in the dataset: 81313\n"
     ]
    }
   ],
   "source": [
    "#Print the total number of pictures and landmarks\n",
    "print(\"The total number of pictures in the dataset:\", len(label))\n",
    "print(\"The total number of landmarks in the dataset:\", label.landmark_id.nunique())"
   ]
  },
  {
   "cell_type": "code",
   "execution_count": 4,
   "id": "0c154a76",
   "metadata": {
    "execution": {
     "iopub.execute_input": "2023-12-10T05:31:21.537463Z",
     "iopub.status.busy": "2023-12-10T05:31:21.537117Z",
     "iopub.status.idle": "2023-12-10T05:31:21.697103Z",
     "shell.execute_reply": "2023-12-10T05:31:21.696224Z"
    },
    "papermill": {
     "duration": 0.171384,
     "end_time": "2023-12-10T05:31:21.699062",
     "exception": false,
     "start_time": "2023-12-10T05:31:21.527678",
     "status": "completed"
    },
    "tags": []
   },
   "outputs": [
    {
     "data": {
      "text/plain": [
       "id             0\n",
       "landmark_id    0\n",
       "dtype: int64"
      ]
     },
     "execution_count": 4,
     "metadata": {},
     "output_type": "execute_result"
    }
   ],
   "source": [
    "# missing data in training data \n",
    "label.isnull().sum().sort_values(ascending = False)"
   ]
  },
  {
   "cell_type": "code",
   "execution_count": 5,
   "id": "98b44b0e",
   "metadata": {
    "execution": {
     "iopub.execute_input": "2023-12-10T05:31:21.715150Z",
     "iopub.status.busy": "2023-12-10T05:31:21.714842Z",
     "iopub.status.idle": "2023-12-10T05:31:21.754381Z",
     "shell.execute_reply": "2023-12-10T05:31:21.753466Z"
    },
    "papermill": {
     "duration": 0.049788,
     "end_time": "2023-12-10T05:31:21.756455",
     "exception": false,
     "start_time": "2023-12-10T05:31:21.706667",
     "status": "completed"
    },
    "tags": []
   },
   "outputs": [],
   "source": [
    "# Top landmark_ids with highest number of landsmark images\n",
    "top10 = pd.DataFrame(label.landmark_id.value_counts().head(10))"
   ]
  },
  {
   "cell_type": "code",
   "execution_count": 6,
   "id": "85a698ba",
   "metadata": {
    "execution": {
     "iopub.execute_input": "2023-12-10T05:31:21.772914Z",
     "iopub.status.busy": "2023-12-10T05:31:21.772651Z",
     "iopub.status.idle": "2023-12-10T05:31:21.803020Z",
     "shell.execute_reply": "2023-12-10T05:31:21.802170Z"
    },
    "papermill": {
     "duration": 0.04106,
     "end_time": "2023-12-10T05:31:21.805200",
     "exception": false,
     "start_time": "2023-12-10T05:31:21.764140",
     "status": "completed"
    },
    "tags": []
   },
   "outputs": [
    {
     "data": {
      "text/html": [
       "<div>\n",
       "<style scoped>\n",
       "    .dataframe tbody tr th:only-of-type {\n",
       "        vertical-align: middle;\n",
       "    }\n",
       "\n",
       "    .dataframe tbody tr th {\n",
       "        vertical-align: top;\n",
       "    }\n",
       "\n",
       "    .dataframe thead th {\n",
       "        text-align: right;\n",
       "    }\n",
       "</style>\n",
       "<table border=\"1\" class=\"dataframe\">\n",
       "  <thead>\n",
       "    <tr style=\"text-align: right;\">\n",
       "      <th></th>\n",
       "      <th>count</th>\n",
       "    </tr>\n",
       "    <tr>\n",
       "      <th>landmark_id</th>\n",
       "      <th></th>\n",
       "    </tr>\n",
       "  </thead>\n",
       "  <tbody>\n",
       "    <tr>\n",
       "      <th>84791</th>\n",
       "      <td>2</td>\n",
       "    </tr>\n",
       "    <tr>\n",
       "      <th>84731</th>\n",
       "      <td>2</td>\n",
       "    </tr>\n",
       "    <tr>\n",
       "      <th>133657</th>\n",
       "      <td>2</td>\n",
       "    </tr>\n",
       "    <tr>\n",
       "      <th>84711</th>\n",
       "      <td>2</td>\n",
       "    </tr>\n",
       "    <tr>\n",
       "      <th>84686</th>\n",
       "      <td>2</td>\n",
       "    </tr>\n",
       "    <tr>\n",
       "      <th>84677</th>\n",
       "      <td>2</td>\n",
       "    </tr>\n",
       "    <tr>\n",
       "      <th>36989</th>\n",
       "      <td>2</td>\n",
       "    </tr>\n",
       "    <tr>\n",
       "      <th>133688</th>\n",
       "      <td>2</td>\n",
       "    </tr>\n",
       "    <tr>\n",
       "      <th>17316</th>\n",
       "      <td>2</td>\n",
       "    </tr>\n",
       "    <tr>\n",
       "      <th>111405</th>\n",
       "      <td>2</td>\n",
       "    </tr>\n",
       "  </tbody>\n",
       "</table>\n",
       "</div>"
      ],
      "text/plain": [
       "             count\n",
       "landmark_id       \n",
       "84791            2\n",
       "84731            2\n",
       "133657           2\n",
       "84711            2\n",
       "84686            2\n",
       "84677            2\n",
       "36989            2\n",
       "133688           2\n",
       "17316            2\n",
       "111405           2"
      ]
     },
     "execution_count": 6,
     "metadata": {},
     "output_type": "execute_result"
    }
   ],
   "source": [
    "# Lowe landmark_ids with less number of landsmark images\n",
    "low10 = pd.DataFrame(label.landmark_id.value_counts().tail(10))\n",
    "low10"
   ]
  },
  {
   "cell_type": "code",
   "execution_count": 7,
   "id": "7309c517",
   "metadata": {
    "execution": {
     "iopub.execute_input": "2023-12-10T05:31:21.822989Z",
     "iopub.status.busy": "2023-12-10T05:31:21.822245Z",
     "iopub.status.idle": "2023-12-10T05:31:23.721689Z",
     "shell.execute_reply": "2023-12-10T05:31:23.720619Z"
    },
    "papermill": {
     "duration": 1.91041,
     "end_time": "2023-12-10T05:31:23.723617",
     "exception": false,
     "start_time": "2023-12-10T05:31:21.813207",
     "status": "completed"
    },
    "tags": []
   },
   "outputs": [
    {
     "data": {
      "text/html": [
       "<div>\n",
       "<style scoped>\n",
       "    .dataframe tbody tr th:only-of-type {\n",
       "        vertical-align: middle;\n",
       "    }\n",
       "\n",
       "    .dataframe tbody tr th {\n",
       "        vertical-align: top;\n",
       "    }\n",
       "\n",
       "    .dataframe thead th {\n",
       "        text-align: right;\n",
       "    }\n",
       "</style>\n",
       "<table border=\"1\" class=\"dataframe\">\n",
       "  <thead>\n",
       "    <tr style=\"text-align: right;\">\n",
       "      <th></th>\n",
       "      <th>id</th>\n",
       "      <th>landmark_id</th>\n",
       "      <th>file_path</th>\n",
       "    </tr>\n",
       "  </thead>\n",
       "  <tbody>\n",
       "    <tr>\n",
       "      <th>0</th>\n",
       "      <td>17660ef415d37059</td>\n",
       "      <td>1</td>\n",
       "      <td>../input/landmark-recognition-2020/train/1/7/6...</td>\n",
       "    </tr>\n",
       "    <tr>\n",
       "      <th>1</th>\n",
       "      <td>92b6290d571448f6</td>\n",
       "      <td>1</td>\n",
       "      <td>../input/landmark-recognition-2020/train/9/2/b...</td>\n",
       "    </tr>\n",
       "    <tr>\n",
       "      <th>2</th>\n",
       "      <td>cd41bf948edc0340</td>\n",
       "      <td>1</td>\n",
       "      <td>../input/landmark-recognition-2020/train/c/d/4...</td>\n",
       "    </tr>\n",
       "    <tr>\n",
       "      <th>3</th>\n",
       "      <td>fb09f1e98c6d2f70</td>\n",
       "      <td>1</td>\n",
       "      <td>../input/landmark-recognition-2020/train/f/b/0...</td>\n",
       "    </tr>\n",
       "    <tr>\n",
       "      <th>4</th>\n",
       "      <td>25c9dfc7ea69838d</td>\n",
       "      <td>7</td>\n",
       "      <td>../input/landmark-recognition-2020/train/2/5/c...</td>\n",
       "    </tr>\n",
       "  </tbody>\n",
       "</table>\n",
       "</div>"
      ],
      "text/plain": [
       "                 id  landmark_id  \\\n",
       "0  17660ef415d37059            1   \n",
       "1  92b6290d571448f6            1   \n",
       "2  cd41bf948edc0340            1   \n",
       "3  fb09f1e98c6d2f70            1   \n",
       "4  25c9dfc7ea69838d            7   \n",
       "\n",
       "                                           file_path  \n",
       "0  ../input/landmark-recognition-2020/train/1/7/6...  \n",
       "1  ../input/landmark-recognition-2020/train/9/2/b...  \n",
       "2  ../input/landmark-recognition-2020/train/c/d/4...  \n",
       "3  ../input/landmark-recognition-2020/train/f/b/0...  \n",
       "4  ../input/landmark-recognition-2020/train/2/5/c...  "
      ]
     },
     "execution_count": 7,
     "metadata": {},
     "output_type": "execute_result"
    }
   ],
   "source": [
    "#Getting filepath so that we can then convert them to images\n",
    "def get_train_file_path(image_id):\n",
    "    return \"../input/landmark-recognition-2020/train/{}/{}/{}/{}.jpg\".format(image_id[0], image_id[1], image_id[2], image_id)\n",
    "\n",
    "label['file_path'] = label['id'].apply(get_train_file_path)\n",
    "df=label.reset_index()\n",
    "df.drop(\"index\",axis=1,inplace=True)\n",
    "df.head()"
   ]
  },
  {
   "cell_type": "code",
   "execution_count": 8,
   "id": "a755bd69",
   "metadata": {
    "execution": {
     "iopub.execute_input": "2023-12-10T05:31:23.742774Z",
     "iopub.status.busy": "2023-12-10T05:31:23.742475Z",
     "iopub.status.idle": "2023-12-10T05:31:24.770164Z",
     "shell.execute_reply": "2023-12-10T05:31:24.769348Z"
    },
    "papermill": {
     "duration": 1.039835,
     "end_time": "2023-12-10T05:31:24.772478",
     "exception": false,
     "start_time": "2023-12-10T05:31:23.732643",
     "status": "completed"
    },
    "tags": []
   },
   "outputs": [],
   "source": [
    "df['landmark_id'] = df.landmark_id.astype(str)"
   ]
  },
  {
   "cell_type": "code",
   "execution_count": 9,
   "id": "f1e86506",
   "metadata": {
    "execution": {
     "iopub.execute_input": "2023-12-10T05:31:24.791008Z",
     "iopub.status.busy": "2023-12-10T05:31:24.790711Z",
     "iopub.status.idle": "2023-12-10T05:31:30.145278Z",
     "shell.execute_reply": "2023-12-10T05:31:30.144306Z"
    },
    "papermill": {
     "duration": 5.366097,
     "end_time": "2023-12-10T05:31:30.147751",
     "exception": false,
     "start_time": "2023-12-10T05:31:24.781654",
     "status": "completed"
    },
    "tags": []
   },
   "outputs": [],
   "source": [
    "from sklearn.model_selection import train_test_split\n",
    "train,test=train_test_split(df,test_size=0.2, stratify=df[\"landmark_id\"])"
   ]
  },
  {
   "cell_type": "code",
   "execution_count": 10,
   "id": "938f926c",
   "metadata": {
    "execution": {
     "iopub.execute_input": "2023-12-10T05:31:30.165709Z",
     "iopub.status.busy": "2023-12-10T05:31:30.165411Z",
     "iopub.status.idle": "2023-12-10T05:31:30.207276Z",
     "shell.execute_reply": "2023-12-10T05:31:30.206317Z"
    },
    "papermill": {
     "duration": 0.05291,
     "end_time": "2023-12-10T05:31:30.209405",
     "exception": false,
     "start_time": "2023-12-10T05:31:30.156495",
     "status": "completed"
    },
    "tags": []
   },
   "outputs": [
    {
     "data": {
      "text/html": [
       "<div>\n",
       "<style scoped>\n",
       "    .dataframe tbody tr th:only-of-type {\n",
       "        vertical-align: middle;\n",
       "    }\n",
       "\n",
       "    .dataframe tbody tr th {\n",
       "        vertical-align: top;\n",
       "    }\n",
       "\n",
       "    .dataframe thead th {\n",
       "        text-align: right;\n",
       "    }\n",
       "</style>\n",
       "<table border=\"1\" class=\"dataframe\">\n",
       "  <thead>\n",
       "    <tr style=\"text-align: right;\">\n",
       "      <th></th>\n",
       "      <th>id</th>\n",
       "      <th>landmark_id</th>\n",
       "      <th>file_path</th>\n",
       "    </tr>\n",
       "  </thead>\n",
       "  <tbody>\n",
       "    <tr>\n",
       "      <th>1199112</th>\n",
       "      <td>4d34da386e1a11cb</td>\n",
       "      <td>154243</td>\n",
       "      <td>../input/landmark-recognition-2020/train/4/d/3...</td>\n",
       "    </tr>\n",
       "    <tr>\n",
       "      <th>131498</th>\n",
       "      <td>8c8ac1a811b49bff</td>\n",
       "      <td>17222</td>\n",
       "      <td>../input/landmark-recognition-2020/train/8/c/8...</td>\n",
       "    </tr>\n",
       "    <tr>\n",
       "      <th>1560495</th>\n",
       "      <td>22cb83d431cea668</td>\n",
       "      <td>200552</td>\n",
       "      <td>../input/landmark-recognition-2020/train/2/2/c...</td>\n",
       "    </tr>\n",
       "    <tr>\n",
       "      <th>1453232</th>\n",
       "      <td>e63ee15c5a39af58</td>\n",
       "      <td>186957</td>\n",
       "      <td>../input/landmark-recognition-2020/train/e/6/3...</td>\n",
       "    </tr>\n",
       "    <tr>\n",
       "      <th>1556049</th>\n",
       "      <td>7ca61bb89ebdbdf1</td>\n",
       "      <td>199890</td>\n",
       "      <td>../input/landmark-recognition-2020/train/7/c/a...</td>\n",
       "    </tr>\n",
       "  </tbody>\n",
       "</table>\n",
       "</div>"
      ],
      "text/plain": [
       "                       id landmark_id  \\\n",
       "1199112  4d34da386e1a11cb      154243   \n",
       "131498   8c8ac1a811b49bff       17222   \n",
       "1560495  22cb83d431cea668      200552   \n",
       "1453232  e63ee15c5a39af58      186957   \n",
       "1556049  7ca61bb89ebdbdf1      199890   \n",
       "\n",
       "                                                 file_path  \n",
       "1199112  ../input/landmark-recognition-2020/train/4/d/3...  \n",
       "131498   ../input/landmark-recognition-2020/train/8/c/8...  \n",
       "1560495  ../input/landmark-recognition-2020/train/2/2/c...  \n",
       "1453232  ../input/landmark-recognition-2020/train/e/6/3...  \n",
       "1556049  ../input/landmark-recognition-2020/train/7/c/a...  "
      ]
     },
     "execution_count": 10,
     "metadata": {},
     "output_type": "execute_result"
    }
   ],
   "source": [
    "train.sample(5)"
   ]
  },
  {
   "cell_type": "code",
   "execution_count": 11,
   "id": "55d4957d",
   "metadata": {
    "execution": {
     "iopub.execute_input": "2023-12-10T05:31:30.227119Z",
     "iopub.status.busy": "2023-12-10T05:31:30.226784Z",
     "iopub.status.idle": "2023-12-10T05:31:30.550039Z",
     "shell.execute_reply": "2023-12-10T05:31:30.549160Z"
    },
    "papermill": {
     "duration": 0.334421,
     "end_time": "2023-12-10T05:31:30.552219",
     "exception": false,
     "start_time": "2023-12-10T05:31:30.217798",
     "status": "completed"
    },
    "tags": []
   },
   "outputs": [
    {
     "data": {
      "text/plain": [
       "81313"
      ]
     },
     "execution_count": 11,
     "metadata": {},
     "output_type": "execute_result"
    }
   ],
   "source": [
    "train[\"landmark_id\"].nunique()"
   ]
  },
  {
   "cell_type": "code",
   "execution_count": 12,
   "id": "3d2ad06f",
   "metadata": {
    "execution": {
     "iopub.execute_input": "2023-12-10T05:31:30.570001Z",
     "iopub.status.busy": "2023-12-10T05:31:30.569722Z",
     "iopub.status.idle": "2023-12-10T05:31:30.586936Z",
     "shell.execute_reply": "2023-12-10T05:31:30.586120Z"
    },
    "papermill": {
     "duration": 0.028351,
     "end_time": "2023-12-10T05:31:30.588919",
     "exception": false,
     "start_time": "2023-12-10T05:31:30.560568",
     "status": "completed"
    },
    "tags": []
   },
   "outputs": [
    {
     "data": {
      "text/html": [
       "<div>\n",
       "<style scoped>\n",
       "    .dataframe tbody tr th:only-of-type {\n",
       "        vertical-align: middle;\n",
       "    }\n",
       "\n",
       "    .dataframe tbody tr th {\n",
       "        vertical-align: top;\n",
       "    }\n",
       "\n",
       "    .dataframe thead th {\n",
       "        text-align: right;\n",
       "    }\n",
       "</style>\n",
       "<table border=\"1\" class=\"dataframe\">\n",
       "  <thead>\n",
       "    <tr style=\"text-align: right;\">\n",
       "      <th></th>\n",
       "      <th>id</th>\n",
       "      <th>landmark_id</th>\n",
       "      <th>file_path</th>\n",
       "    </tr>\n",
       "  </thead>\n",
       "  <tbody>\n",
       "    <tr>\n",
       "      <th>749623</th>\n",
       "      <td>a3fb64e51d294ef1</td>\n",
       "      <td>96663</td>\n",
       "      <td>../input/landmark-recognition-2020/train/a/3/f...</td>\n",
       "    </tr>\n",
       "    <tr>\n",
       "      <th>1267634</th>\n",
       "      <td>e6ec371ed0376288</td>\n",
       "      <td>163367</td>\n",
       "      <td>../input/landmark-recognition-2020/train/e/6/e...</td>\n",
       "    </tr>\n",
       "    <tr>\n",
       "      <th>251231</th>\n",
       "      <td>9670333548b67c89</td>\n",
       "      <td>32056</td>\n",
       "      <td>../input/landmark-recognition-2020/train/9/6/7...</td>\n",
       "    </tr>\n",
       "    <tr>\n",
       "      <th>441269</th>\n",
       "      <td>884efd948cacc987</td>\n",
       "      <td>55780</td>\n",
       "      <td>../input/landmark-recognition-2020/train/8/8/4...</td>\n",
       "    </tr>\n",
       "    <tr>\n",
       "      <th>794783</th>\n",
       "      <td>52468d36c47e8e67</td>\n",
       "      <td>102680</td>\n",
       "      <td>../input/landmark-recognition-2020/train/5/2/4...</td>\n",
       "    </tr>\n",
       "  </tbody>\n",
       "</table>\n",
       "</div>"
      ],
      "text/plain": [
       "                       id landmark_id  \\\n",
       "749623   a3fb64e51d294ef1       96663   \n",
       "1267634  e6ec371ed0376288      163367   \n",
       "251231   9670333548b67c89       32056   \n",
       "441269   884efd948cacc987       55780   \n",
       "794783   52468d36c47e8e67      102680   \n",
       "\n",
       "                                                 file_path  \n",
       "749623   ../input/landmark-recognition-2020/train/a/3/f...  \n",
       "1267634  ../input/landmark-recognition-2020/train/e/6/e...  \n",
       "251231   ../input/landmark-recognition-2020/train/9/6/7...  \n",
       "441269   ../input/landmark-recognition-2020/train/8/8/4...  \n",
       "794783   ../input/landmark-recognition-2020/train/5/2/4...  "
      ]
     },
     "execution_count": 12,
     "metadata": {},
     "output_type": "execute_result"
    }
   ],
   "source": [
    "test.sample(5)"
   ]
  },
  {
   "cell_type": "code",
   "execution_count": 13,
   "id": "742edfb6",
   "metadata": {
    "execution": {
     "iopub.execute_input": "2023-12-10T05:31:30.607167Z",
     "iopub.status.busy": "2023-12-10T05:31:30.606881Z",
     "iopub.status.idle": "2023-12-10T05:31:30.706009Z",
     "shell.execute_reply": "2023-12-10T05:31:30.704985Z"
    },
    "papermill": {
     "duration": 0.110948,
     "end_time": "2023-12-10T05:31:30.708351",
     "exception": false,
     "start_time": "2023-12-10T05:31:30.597403",
     "status": "completed"
    },
    "tags": []
   },
   "outputs": [
    {
     "data": {
      "text/plain": [
       "76563"
      ]
     },
     "execution_count": 13,
     "metadata": {},
     "output_type": "execute_result"
    }
   ],
   "source": [
    "test[\"landmark_id\"].nunique()"
   ]
  },
  {
   "cell_type": "code",
   "execution_count": 14,
   "id": "9cfda974",
   "metadata": {
    "execution": {
     "iopub.execute_input": "2023-12-10T05:31:30.727392Z",
     "iopub.status.busy": "2023-12-10T05:31:30.727060Z",
     "iopub.status.idle": "2023-12-10T05:31:40.476321Z",
     "shell.execute_reply": "2023-12-10T05:31:40.475270Z"
    },
    "papermill": {
     "duration": 9.761066,
     "end_time": "2023-12-10T05:31:40.478754",
     "exception": false,
     "start_time": "2023-12-10T05:31:30.717688",
     "status": "completed"
    },
    "tags": []
   },
   "outputs": [
    {
     "name": "stdout",
     "output_type": "stream",
     "text": [
      "Found 1011501 non-validated image filenames belonging to 81313 classes.\n"
     ]
    },
    {
     "name": "stdout",
     "output_type": "stream",
     "text": [
      "Found 252875 non-validated image filenames belonging to 81313 classes.\n"
     ]
    }
   ],
   "source": [
    "val_rate = 0.2\n",
    "batch_size = 64\n",
    "gen = ImageDataGenerator(rescale=1./255,validation_split=val_rate)\n",
    "\n",
    "train_gen = gen.flow_from_dataframe(\n",
    "    train,\n",
    "    x_col=\"file_path\",\n",
    "    y_col=\"landmark_id\",\n",
    "    weight_col=None,\n",
    "    target_size=(256, 256),\n",
    "    color_mode=\"rgb\",\n",
    "    classes=None,\n",
    "    class_mode=\"categorical\",\n",
    "    batch_size=batch_size,\n",
    "    shuffle=True,\n",
    "    subset=\"training\",\n",
    "    seed=123,\n",
    "    interpolation=\"nearest\",\n",
    "    validate_filenames=False)\n",
    "    \n",
    "val_gen = gen.flow_from_dataframe(\n",
    "    train,\n",
    "    x_col=\"file_path\",\n",
    "    y_col=\"landmark_id\",\n",
    "    weight_col=None,\n",
    "    target_size=(256, 256),\n",
    "    color_mode=\"rgb\",\n",
    "    classes=None,\n",
    "    class_mode=\"categorical\",\n",
    "    batch_size=batch_size,\n",
    "    shuffle=True,\n",
    "    subset=\"validation\",\n",
    "    seed=123,\n",
    "    interpolation=\"nearest\",\n",
    "    validate_filenames=False)"
   ]
  },
  {
   "cell_type": "code",
   "execution_count": null,
   "id": "682f54ea",
   "metadata": {
    "execution": {
     "iopub.execute_input": "2023-12-09T17:32:49.908132Z",
     "iopub.status.busy": "2023-12-09T17:32:49.907850Z",
     "iopub.status.idle": "2023-12-09T17:49:52.839763Z",
     "shell.execute_reply": "2023-12-09T17:49:52.838929Z",
     "shell.execute_reply.started": "2023-12-09T17:32:49.908108Z"
    },
    "papermill": {
     "duration": null,
     "end_time": null,
     "exception": false,
     "start_time": "2023-12-10T05:31:40.488128",
     "status": "running"
    },
    "tags": []
   },
   "outputs": [],
   "source": [
    "gen = ImageDataGenerator(rescale=1./255)\n",
    "\n",
    "test_gen = gen.flow_from_dataframe(\n",
    "    test,\n",
    "    x_col=\"file_path\",\n",
    "    y_col=\"landmark_id\",\n",
    "    target_size=(256, 256),\n",
    "    class_mode=\"categorical\",\n",
    "    batch_size=1,\n",
    "    shuffle=True,\n",
    "    seed=123,)"
   ]
  },
  {
   "cell_type": "code",
   "execution_count": null,
   "id": "6284a74d",
   "metadata": {
    "papermill": {
     "duration": null,
     "end_time": null,
     "exception": null,
     "start_time": null,
     "status": "pending"
    },
    "tags": []
   },
   "outputs": [],
   "source": []
  },
  {
   "cell_type": "code",
   "execution_count": null,
   "id": "51817af6",
   "metadata": {
    "papermill": {
     "duration": null,
     "end_time": null,
     "exception": null,
     "start_time": null,
     "status": "pending"
    },
    "tags": []
   },
   "outputs": [],
   "source": [
    "from tensorflow.keras.applications import InceptionV3\n",
    "inception = InceptionV3(\n",
    "    include_top=False,\n",
    "    weights='imagenet',\n",
    "    input_shape=(256, 256, 3),\n",
    "    classifier_activation='softmax'\n",
    ")\n",
    "\n",
    "inception.trainable = True\n",
    "inception.summary()"
   ]
  },
  {
   "cell_type": "code",
   "execution_count": null,
   "id": "6492f390",
   "metadata": {
    "papermill": {
     "duration": null,
     "end_time": null,
     "exception": null,
     "start_time": null,
     "status": "pending"
    },
    "tags": []
   },
   "outputs": [],
   "source": []
  },
  {
   "cell_type": "code",
   "execution_count": null,
   "id": "c13c8a79",
   "metadata": {
    "papermill": {
     "duration": null,
     "end_time": null,
     "exception": null,
     "start_time": null,
     "status": "pending"
    },
    "tags": []
   },
   "outputs": [],
   "source": [
    "#Making model\n",
    "from tensorflow.keras.layers import Dense, Dropout, MaxPooling2D, GlobalAveragePooling2D, Flatten, Conv2D, Input\n",
    "from tensorflow.keras.models import Sequential\n",
    "from tensorflow.keras import optimizers\n",
    "import tensorflow as tf\n",
    "\n",
    "model = Sequential()\n",
    "model.add(inception)\n",
    "model.add(GlobalAveragePooling2D())\n",
    "model.add(Dense(81313, activation='sigmoid'))\n",
    "model.compile(optimizer='adamax',\n",
    "              loss = 'categorical_crossentropy',\n",
    "              metrics=[tf.keras.metrics.Precision(),tf.keras.metrics.Recall(),'accuracy'])\n",
    "model.summary()"
   ]
  },
  {
   "cell_type": "code",
   "execution_count": null,
   "id": "60045356",
   "metadata": {
    "papermill": {
     "duration": null,
     "end_time": null,
     "exception": null,
     "start_time": null,
     "status": "pending"
    },
    "tags": []
   },
   "outputs": [],
   "source": [
    "model.load_weights()"
   ]
  },
  {
   "cell_type": "markdown",
   "id": "cfc83b2b",
   "metadata": {
    "papermill": {
     "duration": null,
     "end_time": null,
     "exception": null,
     "start_time": null,
     "status": "pending"
    },
    "tags": []
   },
   "source": [
    "## **Case1: Taking epochs=5**"
   ]
  },
  {
   "cell_type": "code",
   "execution_count": null,
   "id": "673e6ec1",
   "metadata": {
    "execution": {
     "iopub.execute_input": "2023-11-30T20:52:25.614785Z",
     "iopub.status.busy": "2023-11-30T20:52:25.614038Z",
     "iopub.status.idle": "2023-11-30T20:52:25.619380Z",
     "shell.execute_reply": "2023-11-30T20:52:25.618361Z",
     "shell.execute_reply.started": "2023-11-30T20:52:25.614754Z"
    },
    "papermill": {
     "duration": null,
     "end_time": null,
     "exception": null,
     "start_time": null,
     "status": "pending"
    },
    "tags": []
   },
   "outputs": [],
   "source": [
    "#setting epochs, train_steps, and val_steps\n",
    "epochs = 2\n",
    "train_steps = int(len(train)*(1-val_rate))//batch_size\n",
    "val_steps = int(len(train)*val_rate)//batch_size"
   ]
  },
  {
   "cell_type": "code",
   "execution_count": null,
   "id": "ac1d72e3",
   "metadata": {
    "execution": {
     "iopub.execute_input": "2023-11-30T20:52:54.598253Z",
     "iopub.status.busy": "2023-11-30T20:52:54.597888Z"
    },
    "papermill": {
     "duration": null,
     "end_time": null,
     "exception": null,
     "start_time": null,
     "status": "pending"
    },
    "tags": []
   },
   "outputs": [],
   "source": [
    "#Fitting the model\n",
    "history = model.fit_generator(train_gen, \n",
    "                              steps_per_epoch=train_steps, \n",
    "                              epochs=epochs,validation_data=val_gen, \n",
    "                              validation_steps=val_steps)"
   ]
  },
  {
   "cell_type": "code",
   "execution_count": null,
   "id": "a5751c7c",
   "metadata": {
    "papermill": {
     "duration": null,
     "end_time": null,
     "exception": null,
     "start_time": null,
     "status": "pending"
    },
    "tags": []
   },
   "outputs": [],
   "source": [
    "# Save the model weights after training\n",
    "model.save_weights('model_weights.h5')"
   ]
  },
  {
   "cell_type": "code",
   "execution_count": null,
   "id": "f5af893d",
   "metadata": {
    "execution": {
     "iopub.execute_input": "2022-08-11T04:03:13.744772Z",
     "iopub.status.busy": "2022-08-11T04:03:13.744273Z",
     "iopub.status.idle": "2022-08-11T04:03:14.439882Z",
     "shell.execute_reply": "2022-08-11T04:03:14.438293Z",
     "shell.execute_reply.started": "2022-08-11T04:03:13.744733Z"
    },
    "papermill": {
     "duration": null,
     "end_time": null,
     "exception": null,
     "start_time": null,
     "status": "pending"
    },
    "tags": []
   },
   "outputs": [],
   "source": [
    "#Plotting Accuracy and Precision for training and validation\n",
    "acc = history.history['accuracy']\n",
    "val_acc = history.history['val_accuracy']\n",
    "precision = history.history['precision']\n",
    "val_precision = history.history['val_precision']\n",
    "\n",
    "epochs = range(1, len(acc)+1)\n",
    "\n",
    "plt.plot(epochs, acc, '#21466C', label='Training acc')\n",
    "plt.plot(epochs, val_acc, '#cc1123', label='Validation acc')\n",
    "plt.xlabel('num of Epochs')\n",
    "plt.ylabel('accuracy')\n",
    "plt.title('Training and validation accuracy')\n",
    "plt.legend()\n",
    "\n",
    "plt.figure()\n",
    "\n",
    "plt.plot(epochs, precision, '#21466C', label='Training precision')\n",
    "plt.plot(epochs, val_precision, '#cc1123', label='Validation precision')\n",
    "plt.xlabel('num of Epochs')\n",
    "plt.ylabel('precision')\n",
    "plt.title('Training and validation precision')\n",
    "plt.legend()\n",
    "\n",
    "plt.show()"
   ]
  },
  {
   "cell_type": "code",
   "execution_count": null,
   "id": "749db648",
   "metadata": {
    "papermill": {
     "duration": null,
     "end_time": null,
     "exception": null,
     "start_time": null,
     "status": "pending"
    },
    "tags": []
   },
   "outputs": [],
   "source": [
    "model="
   ]
  },
  {
   "cell_type": "code",
   "execution_count": null,
   "id": "02315d82",
   "metadata": {
    "execution": {
     "iopub.execute_input": "2022-08-11T04:03:28.620827Z",
     "iopub.status.busy": "2022-08-11T04:03:28.620422Z",
     "iopub.status.idle": "2022-08-11T04:04:50.619556Z",
     "shell.execute_reply": "2022-08-11T04:04:50.617165Z",
     "shell.execute_reply.started": "2022-08-11T04:03:28.620796Z"
    },
    "papermill": {
     "duration": null,
     "end_time": null,
     "exception": null,
     "start_time": null,
     "status": "pending"
    },
    "tags": []
   },
   "outputs": [],
   "source": [
    "scores = model.predict(test_gen[0])\n",
    "# print('loss:', scores[0])\n",
    "# print('precision:', scores[1])\n",
    "# print('recall:', scores[2])\n",
    "# print('accuracy:', scores[3])"
   ]
  }
 ],
 "metadata": {
  "kaggle": {
   "accelerator": "nvidiaTeslaT4",
   "dataSources": [
    {
     "databundleVersionId": 1413778,
     "sourceId": 19231,
     "sourceType": "competition"
    },
    {
     "datasetId": 4137782,
     "sourceId": 7163380,
     "sourceType": "datasetVersion"
    }
   ],
   "dockerImageVersionId": 30588,
   "isGpuEnabled": true,
   "isInternetEnabled": true,
   "language": "python",
   "sourceType": "notebook"
  },
  "kernelspec": {
   "display_name": "Python 3",
   "language": "python",
   "name": "python3"
  },
  "language_info": {
   "codemirror_mode": {
    "name": "ipython",
    "version": 3
   },
   "file_extension": ".py",
   "mimetype": "text/x-python",
   "name": "python",
   "nbconvert_exporter": "python",
   "pygments_lexer": "ipython3",
   "version": "3.10.12"
  },
  "papermill": {
   "default_parameters": {},
   "duration": null,
   "end_time": null,
   "environment_variables": {},
   "exception": null,
   "input_path": "__notebook__.ipynb",
   "output_path": "__notebook__.ipynb",
   "parameters": {},
   "start_time": "2023-12-10T05:31:03.224232",
   "version": "2.4.0"
  }
 },
 "nbformat": 4,
 "nbformat_minor": 5
}